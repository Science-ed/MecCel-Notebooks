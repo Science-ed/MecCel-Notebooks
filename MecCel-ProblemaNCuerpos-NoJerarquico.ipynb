{
 "cells": [
  {
   "cell_type": "code",
   "execution_count": 1,
   "metadata": {
    "collapsed": true
   },
   "outputs": [],
   "source": [
    "# El problema no jerarquico de 3 cuerpos"
   ]
  },
  {
   "cell_type": "code",
   "execution_count": 8,
   "metadata": {
    "collapsed": true
   },
   "outputs": [],
   "source": [
    "from numpy import *\n",
    "import matplotlib.pyplot as plt\n",
    "from mpl_toolkits.mplot3d import Axes3D\n",
    "from scipy.integrate import odeint\n",
    "from numpy.linalg import norm\n",
    "%matplotlib inline\n",
    "\n",
    "# Ecuaciones diferenciales para el sistema de N-cuerpos\n",
    "def eom(y,t,masas):\n",
    "    M=len(y);N=M/6\n",
    "    r=zeros((N,3));v=zeros((N,3))\n",
    "    drdt=zeros((N,3));dvdt=zeros((N,3))    \n",
    "    for i in xrange(N):\n",
    "        r[i]=y[3*i:3*i+3];\n",
    "        v[i]=y[3*N+3*i:3*N+3*i+3]\n",
    "\n",
    "        \n",
    "    # Derivadas\n",
    "    for i in xrange(N):\n",
    "        drdt[i]=v[i]\n",
    "        for j in xrange(N):\n",
    "            if i==j:continue\n",
    "            dvdt[i]+=-masas[j]/norm(r[i]-r[j])**3*(r[i]-r[j])\n",
    "\n",
    "    # Devuelve derivadasç\n",
    "    dydt=array([])\n",
    "    for i in xrange(N):dydt=concatenate((dydt,drdt[i]))\n",
    "    for i in xrange(N):dydt=concatenate((dydt,dvdt[i]))\n",
    "    return dydt"
   ]
  },
  {
   "cell_type": "code",
   "execution_count": 9,
   "metadata": {
    "collapsed": true
   },
   "outputs": [],
   "source": [
    "# Definición del Sistema"
   ]
  },
  {
   "cell_type": "code",
   "execution_count": 10,
   "metadata": {
    "collapsed": true
   },
   "outputs": [],
   "source": [
    "sistema=[\n",
    "    # Particula 0\n",
    "    dict(\n",
    "        m=10.0,\n",
    "        r=[-1,0,0],\n",
    "        v=[0,0,0]\n",
    "    ),\n",
    "    # Particula 1\n",
    "    dict(\n",
    "        m=5.0,\n",
    "        r=[2,0,0],\n",
    "        v=[0,2.2,0]\n",
    "    ),\n",
    "    # Particula 2\n",
    "    dict(\n",
    "        m=0.01,\n",
    "        r=[0,2,0],\n",
    "        v=[-2.5,0,0]\n",
    "    ),\n",
    "]\n",
    "\n",
    "# Prepara el Sistema de Partículas\n",
    "Ntot=len(sistema)\n",
    "masas=[]\n",
    "rs=[];vs=[];ys=[]\n",
    "for i in xrange(Ntot):\n",
    "    particula=sistema[i]\n",
    "    if particula['m']>0:\n",
    "        masas+=[particula['m']]\n",
    "        rs+=particula['r'];vs+=particula['v']\n",
    "\n",
    "ys=rs+vs\n",
    "M=len(ys)\n",
    "N=M/6\n",
    "Masa=sum(masas)"
   ]
  },
  {
   "cell_type": "code",
   "execution_count": 11,
   "metadata": {
    "collapsed": true
   },
   "outputs": [],
   "source": [
    "# Solución al movimiento respecto al centro de masa"
   ]
  },
  {
   "cell_type": "code",
   "execution_count": 12,
   "metadata": {
    "collapsed": false
   },
   "outputs": [],
   "source": [
    "Nt=1000\n",
    "ts=linspace(0,10,Nt)\n",
    "\n",
    "solucion=odeint(eom,ys,ts,args=(masas,))\n",
    "\n",
    "rs=zeros((N,Nt,3))\n",
    "vs=zeros((N,Nt,3))\n",
    "for i in xrange(N):\n",
    "    n=3*i\n",
    "    rs[i]=solucion[:,n:n+3]\n",
    "    m=3*N+3*i\n",
    "    vs[i]=solucion[:,m:m+3]\n",
    "    \n",
    "# Posición del Centro de Masa\n",
    "R = zeros((Nt,3))\n",
    "for it in xrange(Nt):\n",
    "    for n in xrange(N):\n",
    "        R[it]+=masas[n]*rs[n,it]/Masa\n",
    "\n",
    "# Velocidad del Centro de Masa\n",
    "V=zeros((Nt,3))\n",
    "for it in xrange(Nt):\n",
    "    for n in xrange(N):\n",
    "        V[it]+=masas[n]*vs[n,it]/Masa\n",
    "\n",
    "# Refiere la posición de las partículas al centro de masa\n",
    "for n in xrange(N):\n",
    "    rs[n,:]=rs[n,:]-R\n",
    "    vs[n,:]=vs[n,:]-V"
   ]
  },
  {
   "cell_type": "code",
   "execution_count": 13,
   "metadata": {
    "collapsed": true
   },
   "outputs": [],
   "source": [
    "# Gráfica del Movimiento"
   ]
  },
  {
   "cell_type": "code",
   "execution_count": null,
   "metadata": {
    "collapsed": false
   },
   "outputs": [],
   "source": [
    "# Graficar en 3D\n",
    "fig2d = plt.figure(figsize=(6,6))\n",
    "fig3d = plt.figure()\n",
    "\n",
    "ax3d=Axes3D(fig3d)\n",
    "ax2d=fig2d.gca()\n",
    "\n",
    "# Gráfica la solución numérica\n",
    "for i in xrange(N):\n",
    "    r=rs[i,:]\n",
    "    \n",
    "    # Grafica en 3D\n",
    "    line,=ax3d.plot(r[:,0],r[:,1],r[:,2])\n",
    "    color=line.get_color()\n",
    "    ax3d.plot(r[0:1,0],r[0:1,1],r[0:1,2],'o',color=color,markersize=5,markeredgecolor='none')\n",
    "    \n",
    "    # Grafica en 2D\n",
    "    ax2d.plot(r[:,0],r[:,1],color=color)\n",
    "    ax2d.plot(r[0,0],r[0,1],'o',color=color,markersize=5,markeredgecolor='none')\n",
    "    \n",
    "ax3d.view_init(elev=30,azim=80)\n",
    "\n",
    "ext=6\n",
    "ax3d.set_xlim(-ext,ext)\n",
    "ax3d.set_ylim(-ext,ext)\n",
    "ax3d.set_zlim(-ext,ext)\n",
    "ax2d.set_xlim(-ext,ext)\n",
    "ax2d.set_ylim(-ext,ext)\n",
    "\n",
    "ax2d.grid()"
   ]
  },
  {
   "cell_type": "code",
   "execution_count": null,
   "metadata": {
    "collapsed": true
   },
   "outputs": [],
   "source": []
  }
 ],
 "metadata": {
  "kernelspec": {
   "display_name": "Python 2",
   "language": "python",
   "name": "python2"
  },
  "language_info": {
   "codemirror_mode": {
    "name": "ipython",
    "version": 2
   },
   "file_extension": ".py",
   "mimetype": "text/x-python",
   "name": "python",
   "nbconvert_exporter": "python",
   "pygments_lexer": "ipython2",
   "version": "2.7.11"
  }
 },
 "nbformat": 4,
 "nbformat_minor": 0
}
