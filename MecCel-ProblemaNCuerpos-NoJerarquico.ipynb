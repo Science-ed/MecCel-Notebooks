{
 "cells": [
  {
   "cell_type": "code",
   "execution_count": null,
   "metadata": {
    "collapsed": true
   },
   "outputs": [],
   "source": [
    "# El problema no jerarquico de 3 cuerpos"
   ]
  },
  {
   "cell_type": "code",
   "execution_count": null,
   "metadata": {
    "collapsed": true
   },
   "outputs": [],
   "source": [
    "from numpy import *\n",
    "import matplotlib.pyplot as plt\n",
    "from mpl_toolkits.mplot3d import Axes3D\n",
    "from scipy.integrate import odeint\n",
    "from numpy.linalg import norm\n",
    "%matplotlib inline\n",
    "\n",
    "# Ecuaciones diferenciales para el sistema de N-cuerpos\n",
    "def eom(y,t,masas):\n",
    "    M=len(y);N=M/6\n",
    "    r=zeros((N,3));v=zeros((N,3))\n",
    "    drdt=zeros((N,3));dvdt=zeros((N,3))    \n",
    "    for i in xrange(N):\n",
    "        r[i]=y[3*i:3*i+3];\n",
    "        v[i]=y[3*N+3*i:3*N+3*i+3]\n",
    "\n",
    "        \n",
    "    # Derivadas\n",
    "    for i in xrange(N):\n",
    "        drdt[i]=v[i]\n",
    "        for j in xrange(N):\n",
    "            if i==j:continue\n",
    "            dvdt[i]+=-masas[j]/norm(r[i]-r[j])**3*(r[i]-r[j])\n",
    "\n",
    "    # Devuelve derivadasç\n",
    "    dydt=array([])\n",
    "    for i in xrange(N):dydt=concatenate((dydt,drdt[i]))\n",
    "    for i in xrange(N):dydt=concatenate((dydt,dvdt[i]))\n",
    "    return dydt\n",
    "\n",
    "# Matriz de Rotación\n",
    "def rotationMatrix(t,axis):\n",
    "    R=identity(3)\n",
    "    r=array([[cos(t),sin(t)],[-sin(t),cos(t)]])\n",
    "    if axis=='z':R[0:2,0:2]=r\n",
    "    elif axis=='x':R[1:3,1:3]=r\n",
    "    else:\n",
    "        R[0,0]=r[0,0];R[0,2]=r[0,1]\n",
    "        R[2,0]=r[1,0];R[2,2]=r[1,1]\n",
    "    return R"
   ]
  },
  {
   "cell_type": "code",
   "execution_count": null,
   "metadata": {
    "collapsed": true
   },
   "outputs": [],
   "source": [
    "# Definición del Sistema"
   ]
  },
  {
   "cell_type": "code",
   "execution_count": null,
   "metadata": {
    "collapsed": false
   },
   "outputs": [],
   "source": [
    "sistema=[\n",
    "    # Particula 0\n",
    "    dict(\n",
    "        m=10.0,\n",
    "        r=[-1,0,0],\n",
    "        v=[0,0,0]\n",
    "    ),\n",
    "    # Particula 1\n",
    "    dict(\n",
    "        m=5.0,\n",
    "        r=[2,0,0],\n",
    "        v=[0,2.2,0]\n",
    "    ),\n",
    "    # Particula 2\n",
    "    dict(\n",
    "        m=0.01,\n",
    "        r=[3.6,0,0],\n",
    "        v=[0,3.75133030951881,0]\n",
    "    )\n",
    "]\n",
    "colors=['b','g','r']\n",
    "\n",
    "# Prepara el Sistema de Partículas\n",
    "Ntot=len(sistema)\n",
    "masas=[]\n",
    "rs=[];vs=[];ys=[]\n",
    "for i in xrange(Ntot):\n",
    "    particula=sistema[i]\n",
    "    if particula['m']>0:\n",
    "        masas+=[particula['m']]\n",
    "        rs+=particula['r'];vs+=particula['v']\n",
    "\n",
    "ys=rs+vs\n",
    "M=len(ys)\n",
    "N=M/6\n",
    "Masa=sum(masas)"
   ]
  },
  {
   "cell_type": "code",
   "execution_count": null,
   "metadata": {
    "collapsed": true
   },
   "outputs": [],
   "source": [
    "# Solución al movimiento respecto al centro de masa"
   ]
  },
  {
   "cell_type": "code",
   "execution_count": null,
   "metadata": {
    "collapsed": false
   },
   "outputs": [],
   "source": [
    "Nt=1000\n",
    "ts=linspace(0,20,Nt)\n",
    "\n",
    "solucion=odeint(eom,ys,ts,args=(masas,))\n",
    "\n",
    "rs=zeros((N,Nt,3))\n",
    "vs=zeros((N,Nt,3))\n",
    "for i in xrange(N):\n",
    "    n=3*i\n",
    "    rs[i]=solucion[:,n:n+3]\n",
    "    m=3*N+3*i\n",
    "    vs[i]=solucion[:,m:m+3]\n",
    "    \n",
    "# Posición del Centro de Masa\n",
    "R = zeros((Nt,3))\n",
    "for it in xrange(Nt):\n",
    "    for n in xrange(N):\n",
    "        R[it]+=masas[n]*rs[n,it]/Masa\n",
    "\n",
    "# Velocidad del Centro de Masa\n",
    "V=zeros((Nt,3))\n",
    "for it in xrange(Nt):\n",
    "    for n in xrange(N):\n",
    "        V[it]+=masas[n]*vs[n,it]/Masa\n",
    "\n",
    "# Refiere la posición de las partículas al centro de masa\n",
    "for n in xrange(N):\n",
    "    rs[n,:]=rs[n,:]-R\n",
    "    vs[n,:]=vs[n,:]-V"
   ]
  },
  {
   "cell_type": "code",
   "execution_count": null,
   "metadata": {
    "collapsed": true
   },
   "outputs": [],
   "source": [
    "# Gráfica del Movimiento"
   ]
  },
  {
   "cell_type": "code",
   "execution_count": null,
   "metadata": {
    "collapsed": false
   },
   "outputs": [],
   "source": [
    "fig2d = plt.figure(figsize=(6,6))\n",
    "ax2d=fig2d.gca()\n",
    "for i in xrange(N):\n",
    "    r=rs[i,:]\n",
    "    ax2d.plot(r[:,0],r[:,1],color=colors[i])\n",
    "    ax2d.plot(r[0,0],r[0,1],'o',color=colors[i],markersize=5,markeredgecolor='none')\n",
    "    ax2d.plot(r[-1,0],r[-1,1],'s',color=colors[i],markersize=10,markeredgecolor='none')\n",
    "    \n",
    "ext=6\n",
    "ax2d.set_xlim(-ext,ext)\n",
    "ax2d.set_ylim(-ext,ext)\n",
    "ax2d.grid()"
   ]
  },
  {
   "cell_type": "code",
   "execution_count": null,
   "metadata": {
    "collapsed": true
   },
   "outputs": [],
   "source": [
    "# Problema relativo al cuerpo 2"
   ]
  },
  {
   "cell_type": "code",
   "execution_count": null,
   "metadata": {
    "collapsed": false
   },
   "outputs": [],
   "source": [
    "fig2d = plt.figure(figsize=(6,6))\n",
    "ax2d=fig2d.gca()\n",
    "for i in xrange(N):\n",
    "    r=rs[i,:]-rs[1,:]\n",
    "    ax2d.plot(r[:,0],r[:,1],color=colors[i])\n",
    "    ax2d.plot(r[0,0],r[0,1],'o',color=colors[i],markersize=5,markeredgecolor='none')\n",
    "    ax2d.plot(r[-1,0],r[-1,1],'s',color=colors[i],markersize=10,markeredgecolor='none')\n",
    "    \n",
    "ext=6\n",
    "ax2d.set_xlim(-ext,ext)\n",
    "ax2d.set_ylim(-ext,ext)\n",
    "ax2d.grid()"
   ]
  },
  {
   "cell_type": "code",
   "execution_count": null,
   "metadata": {
    "collapsed": true
   },
   "outputs": [],
   "source": [
    "# Transformación al sistema rotante del cuerpo 1 y 2"
   ]
  },
  {
   "cell_type": "code",
   "execution_count": null,
   "metadata": {
    "collapsed": false
   },
   "outputs": [],
   "source": [
    "r12=rs[1,:]-rs[0,:]\n",
    "tetas=arctan2(r12[:,1],r12[:,0])\n",
    "npos=len(tetas)\n",
    "\n",
    "rsr=zeros_like(rs)\n",
    "for i in xrange(npos):\n",
    "    Rtot=rotationMatrix(tetas[i],'z')\n",
    "    for n in xrange(N):\n",
    "        rsr[n,i]=Rtot.dot(rs[n,i])"
   ]
  },
  {
   "cell_type": "code",
   "execution_count": null,
   "metadata": {
    "collapsed": false
   },
   "outputs": [],
   "source": [
    "#  Gráfica del movimiento\n",
    "fig2d = plt.figure(figsize=(6,6))\n",
    "ax2d=fig2d.gca()\n",
    "for i in xrange(N):\n",
    "    r=rsr[i,:]\n",
    "    ax2d.plot(r[:,0],r[:,1],color=colors[i])\n",
    "    ax2d.plot(r[0,0],r[0,1],'o',color=colors[i],markersize=5,markeredgecolor='none')\n",
    "    \n",
    "ext=4\n",
    "ax2d.set_xlim(-ext,ext)\n",
    "ax2d.set_ylim(-ext,ext)\n",
    "ax2d.grid()"
   ]
  },
  {
   "cell_type": "code",
   "execution_count": null,
   "metadata": {
    "collapsed": true
   },
   "outputs": [],
   "source": []
  }
 ],
 "metadata": {
  "kernelspec": {
   "display_name": "Python 2",
   "language": "python",
   "name": "python2"
  },
  "language_info": {
   "codemirror_mode": {
    "name": "ipython",
    "version": 2
   },
   "file_extension": ".py",
   "mimetype": "text/x-python",
   "name": "python",
   "nbconvert_exporter": "python",
   "pygments_lexer": "ipython2",
   "version": "2.7.10"
  }
 },
 "nbformat": 4,
 "nbformat_minor": 0
}
