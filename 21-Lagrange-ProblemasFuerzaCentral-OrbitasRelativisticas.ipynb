{
 "cells": [
  {
   "cell_type": "markdown",
   "metadata": {},
   "source": [
    "# Órbitas en Relatividad General"
   ]
  },
  {
   "cell_type": "code",
   "execution_count": null,
   "metadata": {
    "collapsed": false
   },
   "outputs": [],
   "source": [
    "from numpy import *\n",
    "import matplotlib.pyplot as plt\n",
    "from mpl_toolkits.mplot3d import Axes3D\n",
    "from scipy.integrate import odeint\n",
    "from numpy.linalg import norm\n",
    "%matplotlib nbagg\n",
    "\n",
    "# Potenciales\n",
    "def U(r,params):\n",
    "    mu=params[\"mu\"]\n",
    "    h=params[\"h\"]\n",
    "    Rs=params[\"Rs\"]\n",
    "    Upot=-mu/r-Rs*h**2/2*mu/r**3\n",
    "    return Upot\n",
    "\n",
    "def Ueff(r,params):\n",
    "    h=params[\"h\"]\n",
    "    Upot=U(r,params)+h**2/(2*r**2)\n",
    "    return Upot\n",
    "\n",
    "# Ecuaciones diferenciales para el sistema de N-cuerpos\n",
    "def eom(y,T,params):\n",
    "    mu=params[\"mu\"]\n",
    "    h=params[\"h\"]\n",
    "    E=params[\"E\"]\n",
    "    Rs=params[\"Rs\"]\n",
    "    c=params[\"c\"]\n",
    "\n",
    "    r=y[0]\n",
    "    vr=y[1]\n",
    "    q=y[2]\n",
    "    t=y[3]\n",
    "    \n",
    "    f=(1-Rs/r)\n",
    "    \n",
    "    drdT=vr\n",
    "    dvrdT=-mu/r**2-3./4*Rs*h**2*mu/r**4+h**2/r**3\n",
    "    dqdT=h/r**2\n",
    "    # Fuente: http://bit.ly/1VIbNSa\n",
    "    dtdT=sqrt((1/f)*(1+(drdT/c)**2)/f**2+(r*dqdT/c)**2/f)\n",
    "    \n",
    "    return [drdT,dvrdT,dqdT,dtdT]"
   ]
  },
  {
   "cell_type": "markdown",
   "metadata": {},
   "source": [
    "# Condiciones Iniciales"
   ]
  },
  {
   "cell_type": "code",
   "execution_count": null,
   "metadata": {
    "collapsed": false
   },
   "outputs": [],
   "source": [
    "# Constants\n",
    "mu=1\n",
    "Rs=1\n",
    "\n",
    "# Position\n",
    "t=0\n",
    "r=2\n",
    "q=0\n",
    "\n",
    "# Initial Velocity\n",
    "drdT=0.0\n",
    "dqdT=0.48\n",
    "\n",
    "vx=drdT*cos(q)-r*sin(q)*dqdT\n",
    "vy=drdT*sin(q)+r*cos(q)*dqdT\n",
    "\n",
    "print \"v = \",vx,vy\n",
    "\n",
    "# Constantes\n",
    "h=r**2*dqdT\n",
    "\n",
    "# Parametros\n",
    "params=dict(mu=mu,Rs=Rs,h=h)\n",
    "\n",
    "# Total energy\n",
    "E=0.5*(drdT**2+r**2*dqdT**2)+U(r,params)\n",
    "params[\"E\"]=E\n",
    "\n",
    "print \"h = \",h\n",
    "print \"E = \",E"
   ]
  },
  {
   "cell_type": "markdown",
   "metadata": {},
   "source": [
    "# Units"
   ]
  },
  {
   "cell_type": "code",
   "execution_count": null,
   "metadata": {
    "collapsed": false
   },
   "outputs": [],
   "source": [
    "# Unidades\n",
    "GCONST = 6.67E-11 # m^3 / (kg s^2)\n",
    "UL = 10e3 # metros\n",
    "UM = 2e30 # kg\n",
    "UT = sqrt(UL**3/(UM*GCONST))\n",
    "\n",
    "print \"UT = \",UT\n",
    "\n",
    "# Velocidad de la luz en unidades del sistema\n",
    "c = 3e8*UT/UL\n",
    "print \"c = \",c\n",
    "params[\"c\"]=c"
   ]
  },
  {
   "cell_type": "code",
   "execution_count": null,
   "metadata": {
    "collapsed": true
   },
   "outputs": [],
   "source": [
    "# Solution"
   ]
  },
  {
   "cell_type": "code",
   "execution_count": null,
   "metadata": {
    "collapsed": false
   },
   "outputs": [],
   "source": [
    "Nt=1000\n",
    "Ts=linspace(0,100,Nt)\n",
    "\n",
    "ys=[r,drdT,q,t]\n",
    "solucion=odeint(eom,ys,Ts,args=(params,))\n",
    "\n",
    "rs=solucion[:,0]\n",
    "vrs=solucion[:,1]\n",
    "qs=solucion[:,2]\n",
    "ts=solucion[:,3]"
   ]
  },
  {
   "cell_type": "markdown",
   "metadata": {},
   "source": [
    "# Gráficas respecto al sistema de referencia original"
   ]
  },
  {
   "cell_type": "code",
   "execution_count": null,
   "metadata": {
    "collapsed": false
   },
   "outputs": [],
   "source": [
    "fig=plt.figure(figsize=(12,6))\n",
    "\n",
    "axr=plt.subplot(1,3,1)\n",
    "axq=plt.subplot(1,3,2)\n",
    "axt=plt.subplot(1,3,3)\n",
    "\n",
    "axr.plot(Ts,rs)\n",
    "axq.plot(Ts,qs)\n",
    "axt.plot(Ts,ts)\n",
    "\n",
    "for ax in axr,axq:\n",
    "    ax.set_xlabel(\"Proper time\")\n",
    "\n",
    "axr.set_ylabel(\"r\")\n",
    "axq.set_ylabel(r\"$\\theta$\")\n",
    "axq.set_ylabel(\"Coordinate time$\")"
   ]
  },
  {
   "cell_type": "markdown",
   "metadata": {
    "collapsed": true
   },
   "source": [
    "# Trayectoria"
   ]
  },
  {
   "cell_type": "code",
   "execution_count": null,
   "metadata": {
    "collapsed": false
   },
   "outputs": [],
   "source": [
    "# Graficar en 3D\n",
    "fig = plt.figure(figsize=(6,6))\n",
    "ax=fig.gca()\n",
    "\n",
    "tetas=linspace(0,2*pi,1000)\n",
    "ax.plot(Rs*cos(tetas),Rs*sin(tetas))\n",
    "\n",
    "ax.plot(rs*cos(qs),rs*sin(qs))\n",
    "\n",
    "\n",
    "ext=5\n",
    "ax.set_xlim(-ext,ext)\n",
    "ax.set_ylim(-ext,ext)"
   ]
  },
  {
   "cell_type": "code",
   "execution_count": null,
   "metadata": {
    "collapsed": true
   },
   "outputs": [],
   "source": []
  }
 ],
 "metadata": {
  "kernelspec": {
   "display_name": "Python 2",
   "language": "python",
   "name": "python2"
  },
  "language_info": {
   "codemirror_mode": {
    "name": "ipython",
    "version": 2
   },
   "file_extension": ".py",
   "mimetype": "text/x-python",
   "name": "python",
   "nbconvert_exporter": "python",
   "pygments_lexer": "ipython2",
   "version": "2.7.11"
  }
 },
 "nbformat": 4,
 "nbformat_minor": 0
}
