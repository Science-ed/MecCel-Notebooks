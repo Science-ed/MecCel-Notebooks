{
 "cells": [
  {
   "cell_type": "code",
   "execution_count": 48,
   "metadata": {
    "collapsed": true
   },
   "outputs": [],
   "source": [
    "from numpy import *"
   ]
  },
  {
   "cell_type": "code",
   "execution_count": 49,
   "metadata": {
    "collapsed": false
   },
   "outputs": [
    {
     "name": "stdout",
     "output_type": "stream",
     "text": [
      "Aceleración hacia el Sol:  0.0058989629517\n",
      "Aceleración hacia la Tierra:  0.00277146814404\n",
      "Aceleración Total:  0.00867043109574\n"
     ]
    }
   ],
   "source": [
    "#Calcula la fuerza gravitacional de la Tierra y el Sol sobre la Luna (unidades SI)\n",
    "\n",
    "Msol = 2e30 # kg\n",
    "Mtierra = 6e24 # kg\n",
    "Mluna = 7.34e22 # kg\n",
    "AU = 1.5e11 # m\n",
    "\n",
    "Rts = AU # m\n",
    "Rlt = 3.8e8 # m\n",
    "\n",
    "Gconst = 6.67e-11 # m^3 / kg s^2 \n",
    "\n",
    "Rls = Rts + Rlt\n",
    "\n",
    "als = Gconst * Msol / Rls**2\n",
    "alt = Gconst * Mtierra / Rlt**2\n",
    "a = als+alt\n",
    "\n",
    "print \"Aceleración hacia el Sol: \",als\n",
    "print \"Aceleración hacia la Tierra: \",alt\n",
    "print \"Aceleración Total: \",a"
   ]
  },
  {
   "cell_type": "code",
   "execution_count": 50,
   "metadata": {
    "collapsed": false
   },
   "outputs": [
    {
     "name": "stdout",
     "output_type": "stream",
     "text": [
      "Unidades: uL = 1.50e+11 m, uM = 2.00e+30 kg, uT = 5.03e+06 s\n"
     ]
    }
   ],
   "source": [
    "#Calcula lo mismo unidades canónicas\n",
    "G = 1 # uL^3 / uM uT^2\n",
    "uM = Msol\n",
    "uL = AU\n",
    "uT = sqrt(uL**3/(Gconst*uM))\n",
    "\n",
    "print \"Unidades: uL = %.2e m, uM = %.2e kg, uT = %.2e s\"%(uL,uM,uT)"
   ]
  },
  {
   "cell_type": "code",
   "execution_count": 51,
   "metadata": {
    "collapsed": false
   },
   "outputs": [
    {
     "name": "stdout",
     "output_type": "stream",
     "text": [
      "Aceleración hacia el Sol:  0.994952521839\n",
      "Aceleración hacia la Tierra:  0.467451523546\n",
      "Aceleración Total:  1.46240404538\n"
     ]
    }
   ],
   "source": [
    "Msol = 1.0\n",
    "Mtierra = Mtierra / uM\n",
    "Rts = 1.0\n",
    "Rlt = Rlt/uL\n",
    "Rls = Rts+Rlt\n",
    "\n",
    "als = Msol/Rls**2\n",
    "alt = Mtierra/Rlt**2\n",
    "a = als+alt\n",
    "\n",
    "print \"Aceleración hacia el Sol: \",als\n",
    "print \"Aceleración hacia la Tierra: \",alt\n",
    "print \"Aceleración Total: \",a"
   ]
  },
  {
   "cell_type": "code",
   "execution_count": null,
   "metadata": {
    "collapsed": true
   },
   "outputs": [],
   "source": []
  }
 ],
 "metadata": {
  "kernelspec": {
   "display_name": "Python 2",
   "language": "python",
   "name": "python2"
  },
  "language_info": {
   "codemirror_mode": {
    "name": "ipython",
    "version": 2
   },
   "file_extension": ".py",
   "mimetype": "text/x-python",
   "name": "python",
   "nbconvert_exporter": "python",
   "pygments_lexer": "ipython2",
   "version": "2.7.10"
  }
 },
 "nbformat": 4,
 "nbformat_minor": 0
}
