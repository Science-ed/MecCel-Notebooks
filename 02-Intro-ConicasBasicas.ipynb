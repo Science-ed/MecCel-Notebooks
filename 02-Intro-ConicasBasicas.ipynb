{
 "cells": [
  {
   "cell_type": "markdown",
   "metadata": {},
   "source": [
    "# Gráfica de una cónica usando su ecuación algebraica"
   ]
  },
  {
   "cell_type": "code",
   "execution_count": 1,
   "metadata": {
    "collapsed": true
   },
   "outputs": [],
   "source": [
    "import numpy as np\n",
    "import matplotlib.pyplot as plt\n",
    "%matplotlib inline"
   ]
  },
  {
   "cell_type": "markdown",
   "metadata": {},
   "source": [
    "# Variables"
   ]
  },
  {
   "cell_type": "code",
   "execution_count": 44,
   "metadata": {
    "collapsed": true
   },
   "outputs": [],
   "source": [
    "# Coeficientes que definen la cónica\n",
    "# A x^2 + B x y + C y^2 + D x + E y + F = 0\n",
    "A=1\n",
    "B=0\n",
    "C=0\n",
    "D=0\n",
    "E=1\n",
    "F=0\n",
    "\n",
    "# Matriz de Coeficientes\n",
    "Cmat = [[A,B/2,D/2],[B/2,C,E/2],[D/2,E/2,F]]\n",
    "\n",
    "# \"Signo\" eta de la matriz\n",
    "det = np.linalg.det(Cmat)\n",
    "if det<=0:eta=+1\n",
    "else:eta=-1"
   ]
  },
  {
   "cell_type": "code",
   "execution_count": 40,
   "metadata": {
    "collapsed": false
   },
   "outputs": [
    {
     "name": "stdout",
     "output_type": "stream",
     "text": [
      "Discriminante:  -3\n",
      "Excentricidad:  0.816496580928\n"
     ]
    }
   ],
   "source": [
    "# Discriminante\n",
    "d = B**2 - 4*A*C\n",
    "print \"Discriminante: \",d\n",
    "# Excentricidad\n",
    "e = np.sqrt(2*np.sqrt((A-C)**2+B**2)/(eta*(A+C)+np.sqrt((A-C)**2+B**2)))\n",
    "print \"Excentricidad: \",e"
   ]
  },
  {
   "cell_type": "markdown",
   "metadata": {},
   "source": [
    "# Cálculo de puntos"
   ]
  },
  {
   "cell_type": "code",
   "execution_count": 41,
   "metadata": {
    "collapsed": true
   },
   "outputs": [],
   "source": [
    "# Vectores con puntos\n",
    "xs = []\n",
    "ys = []"
   ]
  },
  {
   "cell_type": "code",
   "execution_count": 42,
   "metadata": {
    "collapsed": false
   },
   "outputs": [],
   "source": [
    "# Para un conjunto de puntos en x\n",
    "for x in np.linspace(-10,10,1000):\n",
    "    coeficientes=[C,E+B*x,A*x**2+D*x+F]\n",
    "    yes=np.roots(coeficientes)\n",
    "    for y in yes:\n",
    "        if np.abs(y.imag)<1e-5:\n",
    "            xs+=[x]\n",
    "            ys+=[y]\n",
    "            \n",
    "ext=max(max(np.abs(xs)),max(np.abs(ys)))"
   ]
  },
  {
   "cell_type": "markdown",
   "metadata": {},
   "source": [
    "# Gráfica"
   ]
  },
  {
   "cell_type": "code",
   "execution_count": 43,
   "metadata": {
    "collapsed": false
   },
   "outputs": [
    {
     "data": {
      "text/plain": [
       "(-0.99990078301856733, 0.99990078301856733)"
      ]
     },
     "execution_count": 43,
     "metadata": {},
     "output_type": "execute_result"
    },
    {
     "data": {
      "image/png": "[encoded data removed]",
      "text/plain": [
       "<matplotlib.figure.Figure at 0x7fb2959da890>"
      ]
     },
     "metadata": {},
     "output_type": "display_data"
    }
   ],
   "source": [
    "plt.figure(figsize=(6,6))\n",
    "ax=plt.gca()\n",
    "ax.plot(xs,ys,'o',markersize=1)\n",
    "ax.set_xlim((-ext,ext))\n",
    "ax.set_ylim((-ext,ext))"
   ]
  },
  {
   "cell_type": "code",
   "execution_count": null,
   "metadata": {
    "collapsed": true
   },
   "outputs": [],
   "source": []
  }
 ],
 "metadata": {
  "kernelspec": {
   "display_name": "Python 2",
   "language": "python",
   "name": "python2"
  },
  "language_info": {
   "codemirror_mode": {
    "name": "ipython",
    "version": 2
   },
   "file_extension": ".py",
   "mimetype": "text/x-python",
   "name": "python",
   "nbconvert_exporter": "python",
   "pygments_lexer": "ipython2",
   "version": "2.7.10"
  }
 },
 "nbformat": 4,
 "nbformat_minor": 0
}
