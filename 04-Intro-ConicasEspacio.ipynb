{
 "cells": [
  {
   "cell_type": "code",
   "execution_count": 1,
   "metadata": {
    "collapsed": true
   },
   "outputs": [],
   "source": [
    "# Cónicas en el espacio"
   ]
  },
  {
   "cell_type": "code",
   "execution_count": 76,
   "metadata": {
    "collapsed": true
   },
   "outputs": [],
   "source": [
    "import numpy as np\n",
    "import matplotlib.pyplot as plt\n",
    "from mpl_toolkits.mplot3d import Axes3D\n",
    "%matplotlib inline"
   ]
  },
  {
   "cell_type": "code",
   "execution_count": 97,
   "metadata": {
    "collapsed": true
   },
   "outputs": [],
   "source": [
    "# Matriz de Rotación\n",
    "def rotationMatrix(t,axis):\n",
    "    R=np.identity(3)\n",
    "    r=np.array([[np.cos(t),np.sin(t)],[-np.sin(t),np.cos(t)]])\n",
    "    if axis=='z':R[0:2,0:2]=r\n",
    "    elif axis=='x':R[1:3,1:3]=r\n",
    "    else:\n",
    "        R[0,0]=r[0,0];R[0,2]=r[0,1]\n",
    "        R[2,0]=r[1,0];R[2,2]=r[1,1]\n",
    "    return R"
   ]
  },
  {
   "cell_type": "code",
   "execution_count": 98,
   "metadata": {
    "collapsed": true
   },
   "outputs": [],
   "source": [
    "# Cónica en su sistema de referencia natural\n",
    "p=1.0\n",
    "e=0.5\n",
    "if e>1:fmax=np.arccos(-1/e)\n",
    "else:fmax=np.pi\n",
    "\n",
    "fs=np.linspace(-fmax,fmax)\n",
    "rs=p/(1+e*np.cos(fs))\n",
    "xs=rs*np.cos(fs)\n",
    "ys=rs*np.sin(fs)\n",
    "zs=0*fs"
   ]
  },
  {
   "cell_type": "code",
   "execution_count": 99,
   "metadata": {
    "collapsed": true
   },
   "outputs": [],
   "source": [
    "# Orientación\n",
    "DEG=180/np.pi\n",
    "\n",
    "i = 90*DEG\n",
    "O = 0*DEG\n",
    "w = 0*DEG"
   ]
  },
  {
   "cell_type": "code",
   "execution_count": 100,
   "metadata": {
    "collapsed": false
   },
   "outputs": [
    {
     "name": "stdout",
     "output_type": "stream",
     "text": [
      "[[ 1.          0.          0.        ]\n",
      " [ 0.         -0.29951539  0.95409147]\n",
      " [ 0.         -0.95409147 -0.29951539]]\n"
     ]
    }
   ],
   "source": [
    "# Matriz de rotación\n",
    "Rtot=(rotationMatrix(-O,'z').dot(rotationMatrix(-i,'x'))).dot(rotationMatrix(-w,'z'))\n",
    "print Rtot\n",
    "# Cónica rotada\n",
    "xpps=[]\n",
    "ypps=[]\n",
    "zpps=[]\n",
    "for x,y,z in zip(xs,ys,zs):\n",
    "    r=np.array([x,y,z])\n",
    "    rp=Rtot.dot(r)\n",
    "    xpps+=[rp[0]]\n",
    "    ypps+=[rp[1]]\n",
    "    zpps+=[rp[2]]"
   ]
  },
  {
   "cell_type": "code",
   "execution_count": 101,
   "metadata": {
    "collapsed": false
   },
   "outputs": [
    {
     "data": {
      "text/plain": [
       "(-2, 2)"
      ]
     },
     "execution_count": 101,
     "metadata": {},
     "output_type": "execute_result"
    },
    {
     "data": {
      "image/png": "[encoded data removed]",
      "text/plain": [
       "<matplotlib.figure.Figure at 0x7f6ad0780e10>"
      ]
     },
     "metadata": {},
     "output_type": "display_data"
    }
   ],
   "source": [
    "fig = plt.figure()\n",
    "ax=Axes3D(fig)\n",
    "\n",
    "ax.plot(xpps,ypps,zpps)\n",
    "ax.view_init(elev=0,azim=270)\n",
    "ext=2\n",
    "ax.set_xlim(-ext,ext)\n",
    "ax.set_ylim(-ext,ext)\n",
    "ax.set_zlim(-ext,ext)"
   ]
  },
  {
   "cell_type": "code",
   "execution_count": null,
   "metadata": {
    "collapsed": true
   },
   "outputs": [],
   "source": []
  }
 ],
 "metadata": {
  "kernelspec": {
   "display_name": "Python 2",
   "language": "python",
   "name": "python2"
  },
  "language_info": {
   "codemirror_mode": {
    "name": "ipython",
    "version": 2
   },
   "file_extension": ".py",
   "mimetype": "text/x-python",
   "name": "python",
   "nbconvert_exporter": "python",
   "pygments_lexer": "ipython2",
   "version": "2.7.10"
  }
 },
 "nbformat": 4,
 "nbformat_minor": 0
}
