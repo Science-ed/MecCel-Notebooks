{
 "cells": [
  {
   "cell_type": "markdown",
   "metadata": {
    "collapsed": true
   },
   "source": [
    "# Dinámica del Péndulo Elástico"
   ]
  },
  {
   "cell_type": "code",
   "execution_count": null,
   "metadata": {
    "collapsed": true
   },
   "outputs": [],
   "source": [
    "from numpy import *\n",
    "from matplotlib import pyplot as plt,animation\n",
    "from scipy.integrate import odeint\n",
    "%matplotlib nbagg\n",
    "\n",
    "# Constantes\n",
    "RAD=180/pi\n",
    "DEG=pi/180\n",
    "g=9.8"
   ]
  },
  {
   "cell_type": "markdown",
   "metadata": {
    "collapsed": true
   },
   "source": [
    "# Ecuaciones de movimiento"
   ]
  },
  {
   "cell_type": "code",
   "execution_count": null,
   "metadata": {
    "collapsed": true
   },
   "outputs": [],
   "source": [
    "def eom_penduloelastico(y,t,params):\n",
    "    # Parametros\n",
    "    L=params[\"L\"]\n",
    "    kom=params[\"kom\"]\n",
    "    \n",
    "    # Lee variables\n",
    "    q=y[0]\n",
    "    e=y[1]\n",
    "    qp=y[2]\n",
    "    ep=y[3]\n",
    "    \n",
    "    # Primeras derivadas\n",
    "    dqdt=qp\n",
    "    dedt=ep\n",
    "    \n",
    "    # Segundas derivadas\n",
    "    dqpdt=-g*sin(q)-2*ep*qp\n",
    "    depdt=(L+e)*qp**2+g*cos(q)-kom*e\n",
    "    \n",
    "    return [dqdt,dedt,dqpdt,depdt]"
   ]
  },
  {
   "cell_type": "markdown",
   "metadata": {
    "collapsed": true
   },
   "source": [
    "# Condiciones iniciales"
   ]
  },
  {
   "cell_type": "code",
   "execution_count": null,
   "metadata": {
    "collapsed": false
   },
   "outputs": [],
   "source": [
    "params=dict(L=1.0,kom=50.0)\n",
    "y=[20*DEG,0.1,0.0,0.0]\n",
    "Nt=1000\n",
    "ts=linspace(0,10,Nt)"
   ]
  },
  {
   "cell_type": "markdown",
   "metadata": {
    "collapsed": true
   },
   "source": [
    "# Solución"
   ]
  },
  {
   "cell_type": "code",
   "execution_count": null,
   "metadata": {
    "collapsed": false
   },
   "outputs": [],
   "source": [
    "solucion=odeint(eom_penduloelastico,y,ts,args=(params,))\n",
    "\n",
    "qs=solucion[:,0]\n",
    "es=solucion[:,1]"
   ]
  },
  {
   "cell_type": "markdown",
   "metadata": {
    "collapsed": true
   },
   "source": [
    "# Gráfica en el espacio de configuración de coordenadas generalizadas"
   ]
  },
  {
   "cell_type": "code",
   "execution_count": null,
   "metadata": {
    "collapsed": false
   },
   "outputs": [],
   "source": [
    "fig=plt.figure()\n",
    "ax=fig.gca()\n",
    "\n",
    "#Posición inicial\n",
    "ax.plot(qs[0]*RAD,es[0],'ro',markersize=10)\n",
    "\n",
    "#Trayectoria\n",
    "ax.plot(qs*RAD,es)\n",
    "\n",
    "ax.set_xlabel(r\"$\\theta$ (grados)\")\n",
    "ax.set_ylabel(\"Elongacion\")"
   ]
  },
  {
   "cell_type": "markdown",
   "metadata": {
    "collapsed": true
   },
   "source": [
    "# Gráfica en el espacio cartesiano"
   ]
  },
  {
   "cell_type": "code",
   "execution_count": null,
   "metadata": {
    "collapsed": false
   },
   "outputs": [],
   "source": [
    "fig=plt.figure(figsize=(6,6))\n",
    "ax=fig.gca()\n",
    "\n",
    "xs=(params[\"L\"]+es)*sin(qs)\n",
    "ys=-(params[\"L\"]+es)*cos(qs)\n",
    "\n",
    "#Posición inicial\n",
    "ax.plot(xs[0],ys[0],'ro',markersize=10)\n",
    "\n",
    "#Trayectoria\n",
    "ax.plot(xs,ys)\n",
    "\n",
    "ax.set_xlabel(\"X\")\n",
    "ax.set_ylabel(\"Y\")\n",
    "\n",
    "ext=1.5\n",
    "ax.set_xlim((-ext/2,ext/2))\n",
    "ax.set_ylim((-ext,0))"
   ]
  },
  {
   "cell_type": "markdown",
   "metadata": {
    "collapsed": true
   },
   "source": [
    "# Animación"
   ]
  },
  {
   "cell_type": "code",
   "execution_count": null,
   "metadata": {
    "collapsed": false
   },
   "outputs": [],
   "source": [
    "# Para ejemplos más complejos de animaciones ver:\n",
    "# http://matplotlib.org/1.4.1/examples/animation/index.html\n",
    "fig=plt.figure(figsize=(6,6))\n",
    "ax=fig.gca()\n",
    "line,=ax.plot([],[],marker='o',markersize=5,markevery=Nt)\n",
    "tiempo=ax.text(0.05,0.9,'',transform=ax.transAxes)\n",
    "\n",
    "print line.get_data()\n",
    "\n",
    "# Inicializar el fondo de la animación\n",
    "def init():\n",
    "    ext=1.5\n",
    "    ax.set_xlim((-ext/2,ext/2))\n",
    "    ax.set_ylim((-ext,0))\n",
    "    line.set_data([],[])\n",
    "    return line,\n",
    "\n",
    "# Rutina de animación de la trayectoria\n",
    "def animate_trayectoria(i):\n",
    "    x=xs[i]\n",
    "    y=ys[i]\n",
    "    \n",
    "    xd,yd=line.get_data()\n",
    "    xd.append([x])\n",
    "    yd.append([y])\n",
    "    \n",
    "    #line.set_data([x,0],[y,0])\n",
    "    line.set_data(xd,yd)\n",
    "    tiempo.set_text(\"t = %.2f s\"%ts[i])\n",
    "    return line,\n",
    "\n",
    "# Rutina de animación de la trayectoria\n",
    "def animate_simulacion(i):\n",
    "    x=xs[i]\n",
    "    y=ys[i]\n",
    "    line.set_data([x,0],[y,0])\n",
    "    tiempo.set_text(\"t = %.2f s\"%ts[i])\n",
    "    return line,\n",
    "\n",
    "# Animar\n",
    "# animate=animate_trayectoria\n",
    "animate=animate_simulacion\n",
    "anim=animation.FuncAnimation(fig,animate,init_func=init,frames=Nt,interval=0*1+1*Nt/30)"
   ]
  },
  {
   "cell_type": "code",
   "execution_count": null,
   "metadata": {
    "collapsed": true
   },
   "outputs": [],
   "source": []
  }
 ],
 "metadata": {
  "kernelspec": {
   "display_name": "Python 2",
   "language": "python",
   "name": "python2"
  },
  "language_info": {
   "codemirror_mode": {
    "name": "ipython",
    "version": 2
   },
   "file_extension": ".py",
   "mimetype": "text/x-python",
   "name": "python",
   "nbconvert_exporter": "python",
   "pygments_lexer": "ipython2",
   "version": "2.7.11"
  }
 },
 "nbformat": 4,
 "nbformat_minor": 0
}
