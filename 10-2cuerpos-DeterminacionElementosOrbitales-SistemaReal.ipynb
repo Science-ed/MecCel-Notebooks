{
 "cells": [
  {
   "cell_type": "markdown",
   "metadata": {},
   "source": [
    "# Determinación de los Elementos Orbitales de un Sistema Real"
   ]
  },
  {
   "cell_type": "code",
   "execution_count": 91,
   "metadata": {
    "collapsed": false
   },
   "outputs": [],
   "source": [
    "from numpy import *\n",
    "import matplotlib.pyplot as plt\n",
    "from scipy.optimize import bisect\n",
    "from scipy.special import jn\n",
    "from time import time as timeit\n",
    "%matplotlib inline\n",
    "norm=linalg.norm\n",
    "\n",
    "DEG=pi/180\n",
    "RAD=180/pi\n",
    "def show(r):\"[\"+\",\".join(r.tolist())+\"]\""
   ]
  },
  {
   "cell_type": "markdown",
   "metadata": {},
   "source": [
    "# Definición del Sistema"
   ]
  },
  {
   "cell_type": "code",
   "execution_count": 92,
   "metadata": {
    "collapsed": true
   },
   "outputs": [],
   "source": [
    "# Tiempo 2016-06-19 02:00:00\n",
    "# Dia Juliano\n",
    "t=2457558.58333\n",
    "\n",
    "# Se utilizo la interface web del Sistema Horizons del JPL : \n",
    "# http://ssd.jpl.nasa.gov/horizons.cgi\n",
    "\n",
    "# Tierra\n",
    "m1 = 5.97237e24\n",
    "r1 = array([-3.164891183028434E-02,-1.012904175107438E+00,-1.277405128356421E-04])\n",
    "v1 = array([1.690601584062892E-02,-6.545632536119304E-04,-6.217673594760544E-08])\n",
    "\n",
    "# Luna\n",
    "m2 = 7.342e22\n",
    "r2 = array([-3.246216458663009E-02,-1.015435304053814E+00,1.050538209588863E-04])\n",
    "v2 = array([1.745520310088857E-02,-8.109331213061256E-04,1.516106948850730E-06])"
   ]
  },
  {
   "cell_type": "markdown",
   "metadata": {},
   "source": [
    "# Unidades canónicas del problema"
   ]
  },
  {
   "cell_type": "code",
   "execution_count": 93,
   "metadata": {
    "collapsed": false
   },
   "outputs": [
    {
     "name": "stdout",
     "output_type": "stream",
     "text": [
      "ul, ut, um =  6371000.0 805.456982823 5.97237e+24\n"
     ]
    }
   ],
   "source": [
    "# Cantidades de referencia \n",
    "AU=1.49597870700e11 # Unidad Astronómica, m\n",
    "G=6.67408e-11 # m^3/(kg s)\n",
    "Rt = 6.371e6 # Radio de la Tierra, m\n",
    "\n",
    "# Unidades\n",
    "ul=Rt\n",
    "um=m1\n",
    "ut=sqrt(ul**3/(G*um))\n",
    "\n",
    "print \"ul, ut, um = \", ul, ut, um"
   ]
  },
  {
   "cell_type": "markdown",
   "metadata": {},
   "source": [
    "# Propiedades del sistema en unidades canónicas"
   ]
  },
  {
   "cell_type": "code",
   "execution_count": 94,
   "metadata": {
    "collapsed": false
   },
   "outputs": [
    {
     "name": "stdout",
     "output_type": "stream",
     "text": [
      "Tierra: m, r, v:  1.0 [ -7.43150184e+02  -2.37840697e+04  -2.99948340e+00] [  3.70073244e+00  -1.43284112e-01  -1.36105080e-05]\n",
      "Luna: m, r, v:  0.0122932772082 [ -7.62246225e+02  -2.38435033e+04   2.46677569e+00] [  3.82094971e+00  -1.77513528e-01   3.31876311e-04]\n"
     ]
    }
   ],
   "source": [
    "\n",
    "t=t*86400/ut\n",
    "\n",
    "m1=m1/um\n",
    "r1=r1*AU/ul\n",
    "v1=v1*AU/(86400)*(ut/ul)\n",
    "\n",
    "m2=m2/um\n",
    "r2=r2*AU/ul\n",
    "v2=v2*AU/(86400)*(ut/ul)\n",
    "\n",
    "print \"Tierra: m, r, v: \",m1,r1,v1\n",
    "print \"Luna: m, r, v: \",m2,r2,v2"
   ]
  },
  {
   "cell_type": "markdown",
   "metadata": {},
   "source": [
    "# Propiedades dinámicas"
   ]
  },
  {
   "cell_type": "code",
   "execution_count": 95,
   "metadata": {
    "collapsed": false
   },
   "outputs": [
    {
     "name": "stdout",
     "output_type": "stream",
     "text": [
      "mu =  1.01229327721\n",
      "h =  [ 0.16657333  0.66373619  7.79859228]\n",
      "eps =  -0.00834208385469\n",
      "evec =  [-0.04080651 -0.02235168  0.00277395]\n"
     ]
    }
   ],
   "source": [
    "# Posición inicial del Centro de masa\n",
    "mu = m1+m2\n",
    "rcm = (m1*r1+m2*r2)/mu\n",
    "vcm = (m1*v1+m2*v2)/mu\n",
    "\n",
    "# Posición relativa\n",
    "mu=m1+m2\n",
    "r=r1-r2\n",
    "v=v1-v2\n",
    "\n",
    "# Constantes de movimiento\n",
    "h=cross(r,v)\n",
    "eps=0.5*norm(v)**2-mu/norm(r)\n",
    "evec=-cross(h,v)/mu-r/norm(r)\n",
    "\n",
    "print \"mu = \",mu\n",
    "\n",
    "print \"h = \",h\n",
    "print \"eps = \",eps\n",
    "print \"evec = \",evec"
   ]
  },
  {
   "cell_type": "markdown",
   "metadata": {},
   "source": [
    "# Propiedades de la cónica"
   ]
  },
  {
   "cell_type": "code",
   "execution_count": 96,
   "metadata": {
    "collapsed": false
   },
   "outputs": [
    {
     "name": "stdout",
     "output_type": "stream",
     "text": [
      "Orbital geometrical properties:\n",
      "p,e =  60.5420734541 0.0466096935273\n",
      "a =  386553322.973\n",
      "Movimiento orbital medio =  0.00212887649751\n",
      "Período =  27.5142709271\n"
     ]
    }
   ],
   "source": [
    "e=norm(evec)\n",
    "p=norm(h)**2/mu\n",
    "\n",
    "print \"Orbital geometrical properties:\"\n",
    "print \"p,e = \",p,e\n",
    "\n",
    "if e<1:\n",
    "    a=p/(1-e**2)\n",
    "    n=sqrt(mu/a**3)\n",
    "    P=2*pi/n\n",
    "    print \"a = \",a*ul\n",
    "    print \"Movimiento orbital medio = \",n\n",
    "    print \"Período = \",P*ut/86400\n",
    "else:\n",
    "    print \"La órbita es una hipérbola\""
   ]
  },
  {
   "cell_type": "markdown",
   "metadata": {},
   "source": [
    "# Orientación en el espacio"
   ]
  },
  {
   "cell_type": "code",
   "execution_count": 99,
   "metadata": {
    "collapsed": false
   },
   "outputs": [
    {
     "name": "stdout",
     "output_type": "stream",
     "text": [
      "[-0.66373619  0.16657333  0.        ]\n",
      "Classical orbital elements i, Omega, omega, f: 5.01480441839 165.911829847 42.9093700772 -136.619217571\n",
      "Tiempo de paso por el periapsis (jd): 2457568.73732\n"
     ]
    }
   ],
   "source": [
    "# Vectores unitarios\n",
    "ax = array([1,0,0])\n",
    "ay = array([0,1,0])\n",
    "az = array([0,0,1])\n",
    "\n",
    "# Vectores plano orbital\n",
    "I = az\n",
    "N = cross(az,h)\n",
    "print N\n",
    "\n",
    "# Elementos orbitales clásicos\n",
    "i = arccos(h[2]/norm(h))\n",
    "o = arccos(N[0]/norm(N))\n",
    "w = arccos(dot(N,evec)/(norm(N)*norm(evec)))\n",
    "\n",
    "# El dificil\n",
    "absf = arccos(dot(evec,r)/(norm(evec)*norm(r)))\n",
    "if dot(cross(r,evec),h)>0:f=-absf\n",
    "else:f=absf\n",
    "\n",
    "print \"Classical orbital elements i, Omega, omega, f:\",i*RAD,o*RAD,w*RAD,f*RAD\n",
    "\n",
    "\n",
    "# Tiempo de paso por el periapsis\n",
    "E = 2 * arctan(sqrt((1-e)/(1+e))*tan(f/2))\n",
    "M = E - e*sin(E)\n",
    "tp = t-M/n\n",
    "\n",
    "print \"Tiempo de paso por el periapsis (jd):\",(tp*ut/86400)"
   ]
  },
  {
   "cell_type": "markdown",
   "metadata": {
    "collapsed": true
   },
   "source": [
    "# Resumen"
   ]
  },
  {
   "cell_type": "code",
   "execution_count": 100,
   "metadata": {
    "collapsed": false
   },
   "outputs": [
    {
     "name": "stdout",
     "output_type": "stream",
     "text": [
      "# Sistema Tierra-Luna en una fecha específica:\n",
      "t =  263618127.507\n",
      "# Tierra\n",
      "m1 =  1.0\n",
      "r1 = array( [-743.1501836105128, -23784.06966240977, -2.9994833970080177] )\n",
      "v1 = array( [3.700732439155043, -0.14328411193718754, -1.3610507990244552e-05] )\n",
      "# Luna\n",
      "m2 =  0.0122932772082\n",
      "r2 = array( [-762.2462251566171, -23843.50326794187, 2.4667756905271423] )\n",
      "v2 = array( [3.8209497114191127, -0.17751352750957722, 0.00033187631076013165] )\n",
      "# Centro de Masa\n",
      "rcm = array( [-743.3820857060726, -23784.79142339025, -2.933101213338583] )\n",
      "vcm = array( [3.70219235624274, -0.14369979354229206, -9.414920278357005e-06] )\n",
      "# Unidades del sistema a SI\n",
      "ul =  6371000.0\n",
      "ut =  805.456982823\n",
      "um =  5.97237e+24\n",
      "# Propiedades dinámicas (unidades canónicas)\n",
      "mu =  1.01229327721\n",
      "h = array( [0.16657332663144261, 0.6637361876366484, 7.798592279757015] )\n",
      "evec = array( [-0.0408065065347476, -0.02235168365874296, 0.0027739489467564493] )\n",
      "n =  0.00212887649751\n",
      "P =  2951.40902468\n",
      "# Elementos orbitales (en unidades canónicas y radianes)\n",
      "a =  60.6738852571\n",
      "e =  0.0466096935273\n",
      "i =  0.0875248484444\n",
      "o =  2.89570769884\n",
      "w =  0.748909787804\n",
      "f =  -2.38445516812\n",
      "tp =  263619216.709\n"
     ]
    }
   ],
   "source": [
    "print \"# Sistema Tierra-Luna en una fecha específica:\"\n",
    "print \"t = \",t\n",
    "\n",
    "print \"# Tierra\"\n",
    "print \"m1 = \",m1\n",
    "print \"r1 = array(\",r1.tolist(),\")\"\n",
    "print \"v1 = array(\",v1.tolist(),\")\"\n",
    "\n",
    "print \"# Luna\"\n",
    "print \"m2 = \",m2\n",
    "print \"r2 = array(\",r2.tolist(),\")\"\n",
    "print \"v2 = array(\",v2.tolist(),\")\"\n",
    "\n",
    "print \"# Centro de Masa\"\n",
    "print \"rcm = array(\",rcm.tolist(),\")\"\n",
    "print \"vcm = array(\",vcm.tolist(),\")\"\n",
    "\n",
    "print \"# Unidades del sistema a SI\"\n",
    "print \"ul = \",ul\n",
    "print \"ut = \",ut\n",
    "print \"um = \",um\n",
    "\n",
    "print \"# Propiedades dinámicas (unidades canónicas)\"\n",
    "print \"mu = \",mu\n",
    "print \"h = array(\",h.tolist(),\")\"\n",
    "print \"evec = array(\",evec.tolist(),\")\"\n",
    "print \"n = \",n\n",
    "print \"P = \",P\n",
    "\n",
    "print \"# Elementos orbitales (en unidades canónicas y radianes)\"\n",
    "print \"a = \",a\n",
    "print \"e = \",e\n",
    "print \"i = \",i\n",
    "print \"o = \",o\n",
    "print \"w = \",w\n",
    "print \"f = \",f\n",
    "print \"tp = \",tp"
   ]
  },
  {
   "cell_type": "code",
   "execution_count": null,
   "metadata": {
    "collapsed": true
   },
   "outputs": [],
   "source": []
  }
 ],
 "metadata": {
  "kernelspec": {
   "display_name": "Python 2",
   "language": "python",
   "name": "python2"
  },
  "language_info": {
   "codemirror_mode": {
    "name": "ipython",
    "version": 2
   },
   "file_extension": ".py",
   "mimetype": "text/x-python",
   "name": "python",
   "nbconvert_exporter": "python",
   "pygments_lexer": "ipython2",
   "version": "2.7.11"
  }
 },
 "nbformat": 4,
 "nbformat_minor": 0
}
