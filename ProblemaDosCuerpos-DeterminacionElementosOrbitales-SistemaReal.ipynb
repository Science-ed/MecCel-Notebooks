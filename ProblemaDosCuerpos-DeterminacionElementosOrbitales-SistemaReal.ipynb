{
 "cells": [
  {
   "cell_type": "markdown",
   "metadata": {},
   "source": [
    "# Determinación de los Elementos Orbitales de un Sistema Real"
   ]
  },
  {
   "cell_type": "code",
   "execution_count": 78,
   "metadata": {
    "collapsed": false
   },
   "outputs": [
    {
     "name": "stdout",
     "output_type": "stream",
     "text": [
      "\n"
     ]
    }
   ],
   "source": [
    "from numpy import *\n",
    "import matplotlib.pyplot as plt\n",
    "from scipy.optimize import bisect\n",
    "from scipy.special import jn\n",
    "from time import time as timeit\n",
    "%matplotlib inline\n",
    "norm=linalg.norm\n",
    "\n",
    "DEG=pi/180\n",
    "RAD=180/pi\n",
    "def show(r):\"[\"+\",\".join(r.tolist())+\"]\""
   ]
  },
  {
   "cell_type": "markdown",
   "metadata": {},
   "source": [
    "# Definición del Sistema"
   ]
  },
  {
   "cell_type": "code",
   "execution_count": 79,
   "metadata": {
    "collapsed": true
   },
   "outputs": [],
   "source": [
    "# Tiempo 2016-06-19 02:00:00\n",
    "# Dia Juliano\n",
    "t=2457558.58333\n",
    "\n",
    "# Se utilizo la interface web del Sistema Horizons del JPL : \n",
    "# http://ssd.jpl.nasa.gov/horizons.cgi\n",
    "\n",
    "# Tierra\n",
    "m1 = 5.96e24\n",
    "r1 = array([-3.164891183028434E-02,-1.012904175107438E+00,-1.277405128356421E-04])\n",
    "v1 = array([1.690601584062892E-02,-6.545632536119304E-04,-6.217673594760544E-08])\n",
    "\n",
    "# Luna\n",
    "m2 = 7.34e22\n",
    "r2 = array([-3.246216458663009E-02,-1.015435304053814E+00,1.050538209588863E-04])\n",
    "v2 = array([1.745520310088857E-02,-8.109331213061256E-04,1.516106948850730E-06])"
   ]
  },
  {
   "cell_type": "markdown",
   "metadata": {},
   "source": [
    "# Unidades canónicas del problema"
   ]
  },
  {
   "cell_type": "code",
   "execution_count": 80,
   "metadata": {
    "collapsed": false
   },
   "outputs": [
    {
     "name": "stdout",
     "output_type": "stream",
     "text": [
      "ul, ut, um =  6400000.0 812.052138058 5.96e+24\n"
     ]
    }
   ],
   "source": [
    "# Cantidades de referencia \n",
    "AU=1.5e8*1e3 # Unidad Astronómica, m\n",
    "G=6.67e-11 # m^3/(kg s)\n",
    "Rt = 6.4e3*1e3 # Radio de la Tierra, m\n",
    "\n",
    "# Unidades\n",
    "ul=Rt\n",
    "um=m1\n",
    "ut=sqrt(ul**3/(G*um))\n",
    "\n",
    "print \"ul, ut, um = \", ul, ut, um"
   ]
  },
  {
   "cell_type": "markdown",
   "metadata": {},
   "source": [
    "# Propiedades del sistema en unidades canónicas"
   ]
  },
  {
   "cell_type": "code",
   "execution_count": 81,
   "metadata": {
    "collapsed": false
   },
   "outputs": [
    {
     "name": "stdout",
     "output_type": "stream",
     "text": [
      "Tierra: m, r, v:  1.0 [ -7.41771371e+02  -2.37399416e+04  -2.99391827e+00] [  3.72411195e+00  -1.44189315e-01  -1.36964929e-05]\n",
      "Luna: m, r, v:  0.0123154362416 [ -7.60831982e+02  -2.37992649e+04   2.46219893e+00] [  3.84508870e+00  -1.78634976e-01   3.33972952e-04]\n"
     ]
    }
   ],
   "source": [
    "\n",
    "t=t*86400/ut\n",
    "\n",
    "m1=m1/um\n",
    "r1=r1*AU/ul\n",
    "v1=v1*AU/(86400)*(ut/ul)\n",
    "\n",
    "m2=m2/um\n",
    "r2=r2*AU/ul\n",
    "v2=v2*AU/(86400)*(ut/ul)\n",
    "\n",
    "print \"Tierra: m, r, v: \",m1,r1,v1\n",
    "print \"Luna: m, r, v: \",m2,r2,v2"
   ]
  },
  {
   "cell_type": "markdown",
   "metadata": {},
   "source": [
    "# Propiedades dinámicas"
   ]
  },
  {
   "cell_type": "code",
   "execution_count": 82,
   "metadata": {
    "collapsed": false
   },
   "outputs": [
    {
     "name": "stdout",
     "output_type": "stream",
     "text": [
      "mu =  1.01231543624\n",
      "h =  [ 0.16731465  0.66669012  7.83329956]\n",
      "eps =  -0.00827344870768\n",
      "evec =  [-0.03796297 -0.01237408  0.00186402]\n"
     ]
    }
   ],
   "source": [
    "# Posición inicial del Centro de masa\n",
    "mu = m1+m2\n",
    "rcm = (m1*r1+m2*r2)/mu\n",
    "vcm = (m1*v1+m2*v2)/mu\n",
    "\n",
    "# Posición relativa\n",
    "mu=m1+m2\n",
    "r=r1-r2\n",
    "v=v1-v2\n",
    "\n",
    "# Constantes de movimiento\n",
    "h=cross(r,v)\n",
    "eps=0.5*norm(v)**2-mu/norm(r)\n",
    "evec=-cross(h,v)/mu-r/norm(r)\n",
    "\n",
    "print \"mu = \",mu\n",
    "\n",
    "print \"h = \",h\n",
    "print \"eps = \",eps\n",
    "print \"evec = \",evec"
   ]
  },
  {
   "cell_type": "markdown",
   "metadata": {},
   "source": [
    "# Propiedades de la cónica"
   ]
  },
  {
   "cell_type": "code",
   "execution_count": 83,
   "metadata": {
    "collapsed": false
   },
   "outputs": [
    {
     "name": "stdout",
     "output_type": "stream",
     "text": [
      "Orbital geometrical properties:\n",
      "p,e =  61.0808149627 0.039972236032\n",
      "a =  391542814.904\n",
      "Movimiento orbital medio =  0.00210261134042\n",
      "Período =  28.0860741167\n"
     ]
    }
   ],
   "source": [
    "e=norm(evec)\n",
    "p=norm(h)**2/mu\n",
    "\n",
    "print \"Orbital geometrical properties:\"\n",
    "print \"p,e = \",p,e\n",
    "\n",
    "if e<1:\n",
    "    a=p/(1-e**2)\n",
    "    n=sqrt(mu/a**3)\n",
    "    P=2*pi/n\n",
    "    print \"a = \",a*ul\n",
    "    print \"Movimiento orbital medio = \",n\n",
    "    print \"Período = \",P*ut/86400\n",
    "else:\n",
    "    print \"La órbita es una hipérbola\""
   ]
  },
  {
   "cell_type": "markdown",
   "metadata": {},
   "source": [
    "# Orientación en el espacio"
   ]
  },
  {
   "cell_type": "code",
   "execution_count": 84,
   "metadata": {
    "collapsed": false
   },
   "outputs": [
    {
     "name": "stdout",
     "output_type": "stream",
     "text": [
      "[-0.66669012  0.16731465  0.        ]\n",
      "Classical orbital elements i, Omega, omega, f: 5.01480441839 165.911829847 32.2406844445 -125.950531939\n",
      "Tiempo de paso por el periapsis (jd): 2457568.11519\n"
     ]
    }
   ],
   "source": [
    "# Vectores unitarios\n",
    "ax = array([1,0,0])\n",
    "ay = array([0,1,0])\n",
    "az = array([0,0,1])\n",
    "\n",
    "# Vectores plano orbital\n",
    "I = az\n",
    "N = cross(az,h)\n",
    "print N\n",
    "\n",
    "# Elementos orbitales clásicos\n",
    "i = arccos(h[2]/norm(h))\n",
    "o = arccos(N[0]/norm(N))\n",
    "w = arccos(dot(N,evec)/(norm(N)*norm(evec)))\n",
    "\n",
    "# El dificil\n",
    "absf = arccos(dot(evec,r)/(norm(evec)*norm(r)))\n",
    "if dot(cross(r,evec),h)>0:f=-absf\n",
    "else:f=absf\n",
    "\n",
    "print \"Classical orbital elements i, Omega, omega, f:\",i*RAD,o*RAD,w*RAD,f*RAD\n",
    "\n",
    "\n",
    "# Tiempo de paso por el periapsis\n",
    "E = 2 * arctan(sqrt((1-e)/(1+e))*tan(f/2))\n",
    "M = E - e*sin(E)\n",
    "tp = t-M/n\n",
    "\n",
    "print \"Tiempo de paso por el periapsis (jd):\",(tp*ut/86400)"
   ]
  },
  {
   "cell_type": "markdown",
   "metadata": {
    "collapsed": true
   },
   "source": [
    "# Resumen"
   ]
  },
  {
   "cell_type": "code",
   "execution_count": 87,
   "metadata": {
    "collapsed": false
   },
   "outputs": [
    {
     "name": "stdout",
     "output_type": "stream",
     "text": [
      "# Sistema Tierra-Luna en una fecha específica:\n",
      "t =  261477128.929\n",
      "# Tierra\n",
      "m1 =  1.0\n",
      "r1 = array( [-741.7713710222893, -23739.941604080577, -2.993918269585362] )\n",
      "v1 = array( [3.7241119545958528, -0.14418931466733226, -1.3696492882950778e-05] )\n",
      "# Luna\n",
      "m2 =  0.0123154362416\n",
      "r2 = array( [-760.8319824991429, -23799.26493876127, 2.4621989287238977] )\n",
      "v2 = array( [3.8450887039686736, -0.1786349758513845, 0.00033397295175199626] )\n",
      "# Centro de Masa\n",
      "rcm = array( [-742.0032550151293, -23740.66330871902, -2.927541267835785] )\n",
      "vcm = array( [3.725583710720752, -0.1446083671967368, -9.466881513539649e-06] )\n",
      "# Unidades del sistema a SI\n",
      "ul =  6400000.0\n",
      "ut =  812.052138058\n",
      "um =  5.96e+24\n",
      "# Propiedades dinámicas (unidades canónicas)\n",
      "h = array( [0.16731465357111183, 0.6666901150551571, 7.833299556518597] )\n",
      "evec = array( [-0.037962972116099614, -0.012374078791881127, 0.0018640213407190714] )\n",
      "n =  0.00210261134042\n",
      "P =  2988.27709448\n",
      "# Elementos orbitales (en unidades canónicas y radianes)\n",
      "a =  61.1785648288\n",
      "e =  0.039972236032\n",
      "i =  0.0875248484444\n",
      "o =  2.89570769884\n",
      "w =  0.562706096652\n",
      "f =  -2.19825147697\n",
      "tp =  261478143.091\n"
     ]
    }
   ],
   "source": [
    "print \"# Sistema Tierra-Luna en una fecha específica:\"\n",
    "print \"t = \",t\n",
    "\n",
    "print \"# Tierra\"\n",
    "print \"m1 = \",m1\n",
    "print \"r1 = array(\",r1.tolist(),\")\"\n",
    "print \"v1 = array(\",v1.tolist(),\")\"\n",
    "\n",
    "print \"# Luna\"\n",
    "print \"m2 = \",m2\n",
    "print \"r2 = array(\",r2.tolist(),\")\"\n",
    "print \"v2 = array(\",v2.tolist(),\")\"\n",
    "\n",
    "print \"# Centro de Masa\"\n",
    "print \"rcm = array(\",rcm.tolist(),\")\"\n",
    "print \"vcm = array(\",vcm.tolist(),\")\"\n",
    "\n",
    "print \"# Unidades del sistema a SI\"\n",
    "print \"ul = \",ul\n",
    "print \"ut = \",ut\n",
    "print \"um = \",um\n",
    "\n",
    "print \"# Propiedades dinámicas (unidades canónicas)\"\n",
    "print \"h = array(\",h.tolist(),\")\"\n",
    "print \"evec = array(\",evec.tolist(),\")\"\n",
    "print \"n = \",n\n",
    "print \"P = \",P\n",
    "\n",
    "print \"# Elementos orbitales (en unidades canónicas y radianes)\"\n",
    "print \"a = \",a\n",
    "print \"e = \",e\n",
    "print \"i = \",i\n",
    "print \"o = \",o\n",
    "print \"w = \",w\n",
    "print \"f = \",f\n",
    "print \"tp = \",tp"
   ]
  },
  {
   "cell_type": "code",
   "execution_count": null,
   "metadata": {
    "collapsed": true
   },
   "outputs": [],
   "source": []
  }
 ],
 "metadata": {
  "kernelspec": {
   "display_name": "Python 2",
   "language": "python",
   "name": "python2"
  },
  "language_info": {
   "codemirror_mode": {
    "name": "ipython",
    "version": 2
   },
   "file_extension": ".py",
   "mimetype": "text/x-python",
   "name": "python",
   "nbconvert_exporter": "python",
   "pygments_lexer": "ipython2",
   "version": "2.7.11"
  }
 },
 "nbformat": 4,
 "nbformat_minor": 0
}
