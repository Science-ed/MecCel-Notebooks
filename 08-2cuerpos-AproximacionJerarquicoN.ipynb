{
 "cells": [
  {
   "cell_type": "markdown",
   "metadata": {},
   "source": [
    "# El Problema de los 2 Cuerpos"
   ]
  },
  {
   "cell_type": "code",
   "execution_count": 160,
   "metadata": {
    "collapsed": false
   },
   "outputs": [],
   "source": [
    "from numpy import *\n",
    "import matplotlib.pyplot as plt\n",
    "from mpl_toolkits.mplot3d import Axes3D\n",
    "from scipy.integrate import odeint\n",
    "from numpy.linalg import norm\n",
    "%matplotlib inline\n",
    "\n",
    "# Ecuaciones diferenciales para el sistema de N-cuerpos\n",
    "def eom(y,t,masas):\n",
    "    M=len(y);N=M/6\n",
    "    r=zeros((N,3));v=zeros((N,3))\n",
    "    drdt=zeros((N,3));dvdt=zeros((N,3))    \n",
    "    for i in xrange(N):\n",
    "        r[i]=y[3*i:3*i+3];\n",
    "        v[i]=y[3*N+3*i:3*N+3*i+3]\n",
    "\n",
    "        \n",
    "    # Derivadas\n",
    "    for i in xrange(N):\n",
    "        drdt[i]=v[i]\n",
    "        for j in xrange(N):\n",
    "            if i==j:continue\n",
    "            dvdt[i]+=-masas[j]/norm(r[i]-r[j])**3*(r[i]-r[j])\n",
    "\n",
    "    # Devuelve derivadasç\n",
    "    dydt=array([])\n",
    "    for i in xrange(N):dydt=concatenate((dydt,drdt[i]))\n",
    "    for i in xrange(N):dydt=concatenate((dydt,dvdt[i]))\n",
    "    return dydt"
   ]
  },
  {
   "cell_type": "markdown",
   "metadata": {},
   "source": [
    "# Un Sistema Jerarquico de 3 Cuerpos"
   ]
  },
  {
   "cell_type": "code",
   "execution_count": 218,
   "metadata": {
    "collapsed": false
   },
   "outputs": [],
   "source": [
    "# Define el sistema de partículas\n",
    "sistema=[\n",
    "    # Particula 0\n",
    "    dict(\n",
    "        m=10.0,\n",
    "        r=[1,0,0],\n",
    "        v=[0,1,1]\n",
    "    ),\n",
    "    # Particula 1\n",
    "    dict(\n",
    "        m=1.0,\n",
    "        r=[1.5,0,0],\n",
    "        v=[0,-3,1]\n",
    "    ),\n",
    "    # Particula 2\n",
    "    dict(\n",
    "        m=0.1,\n",
    "        r=[-1,0,0],\n",
    "        v=[0,2.5,1]\n",
    "    ),\n",
    "]\n",
    "\n",
    "# Prepara el Sistema de Partículas\n",
    "Ntot=len(sistema)\n",
    "masas=[]\n",
    "rs=[];vs=[];ys=[]\n",
    "for i in xrange(Ntot):\n",
    "    particula=sistema[i]\n",
    "    if particula['m']>0:\n",
    "        masas+=[particula['m']]\n",
    "        rs+=particula['r'];vs+=particula['v']\n",
    "ys=rs+vs\n",
    "M=len(ys)\n",
    "N=M/6\n",
    "Masa=sum(masas)\n",
    "\n",
    "# Soluciona el Problema\n",
    "Nt=1000\n",
    "ts=linspace(0,2,Nt)\n",
    "\n",
    "solucion=odeint(eom,ys,ts,args=(masas,))\n",
    "\n",
    "rs=zeros((N,Nt,3))\n",
    "vs=zeros((N,Nt,3))\n",
    "for i in xrange(N):\n",
    "    n=3*i\n",
    "    rs[i]=solucion[:,n:n+3]\n",
    "    m=3*N+3*i\n",
    "    vs[i]=solucion[:,m:m+3]\n",
    "    \n",
    "# Posición del Centro de Masa\n",
    "R = zeros((Nt,3))\n",
    "for it in xrange(Nt):\n",
    "    for n in xrange(N):\n",
    "        R[it]+=masas[n]*rs[n,it]/Masa\n",
    "\n",
    "# Velocidad del Centro de Masa\n",
    "V=zeros((Nt,3))\n",
    "for it in xrange(Nt):\n",
    "    for n in xrange(N):\n",
    "        V[it]+=masas[n]*vs[n,it]/Masa\n",
    "\n",
    "# Refiere la posición de las partículas al centro de masa\n",
    "for n in xrange(N):\n",
    "    rs[n,:]=rs[n,:]-R\n",
    "    vs[n,:]=vs[n,:]-V"
   ]
  },
  {
   "cell_type": "markdown",
   "metadata": {},
   "source": [
    "# El problema analizado como 2 sistemas de 2 cuerpos"
   ]
  },
  {
   "cell_type": "code",
   "execution_count": 219,
   "metadata": {
    "collapsed": false
   },
   "outputs": [
    {
     "name": "stdout",
     "output_type": "stream",
     "text": [
      "Excentricidad de la órbita: 0.272731051381\n",
      "Semilatus rectum: 0.363633161778\n",
      "Semieje mayor: 0.392854558484\n"
     ]
    }
   ],
   "source": [
    "# Partícula 0 y Partícula 1\n",
    "it=10\n",
    "\n",
    "# Propiedades del sistema relativo\n",
    "mu01=masas[0]+masas[1]\n",
    "Masa01=masas[0]+masas[1]\n",
    "rcm01=(masas[0]*rs[0,it]+masas[1]*rs[1,it])/Masa01\n",
    "vcm01=(masas[0]*vs[0,it]+masas[1]*vs[1,it])/Masa01\n",
    "\n",
    "r=rs[0,it]-rs[1,it]\n",
    "v=vs[0,it]-vs[1,it]\n",
    "\n",
    "# Constantes de movimiento\n",
    "h=cross(r,v)\n",
    "eps=0.5*norm(v)**2-mu01/norm(r)\n",
    "evec=cross(h,v)/mu01+r/norm(r)\n",
    "\n",
    "# Propiedades derivadas\n",
    "e=norm(evec)\n",
    "p=norm(h)**2/mu01\n",
    "a=p/(1-e**2)\n",
    "\n",
    "print \"Excentricidad de la órbita:\",e\n",
    "print \"Semilatus rectum:\",p\n",
    "print \"Semieje mayor:\",a\n",
    "\n",
    "# Calculo de las posiciones del sistema relativo\n",
    "fs=linspace(-pi,pi,100)\n",
    "ra=[]\n",
    "for f in fs:\n",
    "    re=p/(1+e*cos(f))\n",
    "    x=re*cos(f)\n",
    "    y=re*sin(f)\n",
    "    ra+=[[x,y,0]]\n",
    "ra=array(ra)\n",
    "    \n",
    "r0=rcm01+masas[1]/Masa01*ra\n",
    "r1=rcm01-masas[0]/Masa01*ra"
   ]
  },
  {
   "cell_type": "code",
   "execution_count": 220,
   "metadata": {
    "collapsed": false
   },
   "outputs": [
    {
     "name": "stdout",
     "output_type": "stream",
     "text": [
      "Excentricidad de la órbita: 0.359961269551\n",
      "Semilatus rectum: 1.30917419234\n",
      "Semieje mayor: 1.50405819456\n"
     ]
    }
   ],
   "source": [
    "# Partícula 0+1 y Partícula 2\n",
    "\n",
    "# Propiedades del sistema relativo\n",
    "mu012=Masa01+masas[2]\n",
    "rcm012=(Masa01*rcm01+masas[2]*rs[2,it])/Masa\n",
    "r=rcm01-rs[2,it]\n",
    "v=vcm01-vs[2,it]\n",
    "\n",
    "# Constantes de movimiento\n",
    "h=cross(r,v)\n",
    "eps=0.5*norm(v)**2-mu012/norm(r)\n",
    "evec=cross(h,v)/mu012+r/norm(r)\n",
    "\n",
    "# Propiedades derivadas\n",
    "e=norm(evec)\n",
    "p=norm(h)**2/mu012\n",
    "a=p/(1-e**2)\n",
    "\n",
    "print \"Excentricidad de la órbita:\",e\n",
    "print \"Semilatus rectum:\",p\n",
    "print \"Semieje mayor:\",a\n",
    "\n",
    "# Calculo de las posiciones del sistema relativo\n",
    "fs=linspace(-pi,pi,100)\n",
    "ra=[]\n",
    "for f in fs:\n",
    "    re=p/(1+e*cos(f))\n",
    "    x=re*cos(f)\n",
    "    y=re*sin(f)\n",
    "    ra+=[[x,y,0]]\n",
    "ra=array(ra)\n",
    "    \n",
    "r2=rcm012+Masa01/Masa*ra"
   ]
  },
  {
   "cell_type": "markdown",
   "metadata": {
    "collapsed": true
   },
   "source": [
    "# Gráfica de todo el Sistema"
   ]
  },
  {
   "cell_type": "code",
   "execution_count": 221,
   "metadata": {
    "collapsed": false
   },
   "outputs": [
    {
     "data": {
      "image/png": "[encoded data removed]",
      "text/plain": [
       "<matplotlib.figure.Figure at 0x7fc69a70eb10>"
      ]
     },
     "metadata": {},
     "output_type": "display_data"
    },
    {
     "data": {
      "image/png": "[encoded data removed]",
      "text/plain": [
       "<matplotlib.figure.Figure at 0x7fc69a70ef10>"
      ]
     },
     "metadata": {},
     "output_type": "display_data"
    }
   ],
   "source": [
    "# Graficar en 3D\n",
    "fig2d = plt.figure(figsize=(6,6))\n",
    "fig3d = plt.figure()\n",
    "\n",
    "ax3d=Axes3D(fig3d)\n",
    "ax2d=fig2d.gca()\n",
    "\n",
    "# Gráfica la solución numérica\n",
    "for i in xrange(N):\n",
    "    r=rs[i,:]\n",
    "    \n",
    "    # Grafica en 3D\n",
    "    line,=ax3d.plot(r[:,0],r[:,1],r[:,2])\n",
    "    color=line.get_color()\n",
    "    ax3d.plot(r[0:1,0],r[0:1,1],r[0:1,2],'o',color=color,markersize=5,markeredgecolor='none')\n",
    "    \n",
    "    # Grafica en 2D\n",
    "    ax2d.plot(r[:,0],r[:,1],color=color)\n",
    "    ax2d.plot(r[0,0],r[0,1],'o',color=color,markersize=5,markeredgecolor='none')\n",
    "    \n",
    "    \n",
    "# Gráfica la solución analítica\n",
    "ax2d.plot(r0[:,0],r0[:,1],'k')\n",
    "ax2d.plot(r1[:,0],r1[:,1],'k')\n",
    "ax2d.plot(r2[:,0],r2[:,1],'k')\n",
    "ax3d.plot(r0[:,0],r0[:,1],r0[:,2],'k')\n",
    "ax3d.plot(r1[:,0],r1[:,1],r1[:,2],'k')\n",
    "ax3d.plot(r2[:,0],r2[:,1],r2[:,2],'k')\n",
    "\n",
    "ax3d.view_init(elev=30,azim=80)\n",
    "\n",
    "ext=3\n",
    "ax3d.set_xlim(-ext,ext)\n",
    "ax3d.set_ylim(-ext,ext)\n",
    "ax3d.set_zlim(-ext,ext)\n",
    "ax2d.set_xlim(-ext,ext)\n",
    "ax2d.set_ylim(-ext,ext)\n",
    "\n",
    "ax2d.grid()"
   ]
  },
  {
   "cell_type": "code",
   "execution_count": null,
   "metadata": {
    "collapsed": true
   },
   "outputs": [],
   "source": []
  }
 ],
 "metadata": {
  "kernelspec": {
   "display_name": "Python 2",
   "language": "python",
   "name": "python2"
  },
  "language_info": {
   "codemirror_mode": {
    "name": "ipython",
    "version": 2
   },
   "file_extension": ".py",
   "mimetype": "text/x-python",
   "name": "python",
   "nbconvert_exporter": "python",
   "pygments_lexer": "ipython2",
   "version": "2.7.11"
  }
 },
 "nbformat": 4,
 "nbformat_minor": 0
}
