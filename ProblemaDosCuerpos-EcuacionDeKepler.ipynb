{
 "cells": [
  {
   "cell_type": "markdown",
   "metadata": {},
   "source": [
    "# Ecuación de Kepler"
   ]
  },
  {
   "cell_type": "code",
   "execution_count": 250,
   "metadata": {
    "collapsed": true
   },
   "outputs": [],
   "source": [
    "from numpy import *\n",
    "import matplotlib.pyplot as plt\n",
    "from scipy.optimize import bisect\n",
    "from scipy.special import jn\n",
    "from time import time as timeit\n",
    "%matplotlib inline\n",
    "DEG=pi/180\n",
    "RAD=180/pi"
   ]
  },
  {
   "cell_type": "markdown",
   "metadata": {},
   "source": [
    "# Definición de la Ecuación"
   ]
  },
  {
   "cell_type": "code",
   "execution_count": 251,
   "metadata": {
    "collapsed": true
   },
   "outputs": [],
   "source": [
    "def Ekepler(E,M,e):\n",
    "    f=E-e*sin(E)-M\n",
    "    return f"
   ]
  },
  {
   "cell_type": "markdown",
   "metadata": {},
   "source": [
    "# Solución numérica"
   ]
  },
  {
   "cell_type": "code",
   "execution_count": 252,
   "metadata": {
    "collapsed": false
   },
   "outputs": [
    {
     "name": "stdout",
     "output_type": "stream",
     "text": [
      "M = 60.0000000000\n",
      "E = 70.8232868148\n",
      "Solution:\n",
      "{'converged': True, 'function_calls': 53, 'flag': 'converged', 'root': 1.2360995420023746, 'iterations': 51}\n"
     ]
    }
   ],
   "source": [
    "e=0.2\n",
    "\n",
    "# Numeric solution using bisection\n",
    "M=pi/3\n",
    "E,properties=bisect(Ekepler,0,2*pi,args=(M,e),xtol=1e-17,full_output=True)\n",
    "print \"M = %.10f\"%(M*180/pi)\n",
    "print \"E = %.10f\"%(E*180/pi)\n",
    "print \"Solution:\\n\",properties.__dict__"
   ]
  },
  {
   "cell_type": "code",
   "execution_count": 253,
   "metadata": {
    "collapsed": true
   },
   "outputs": [],
   "source": [
    "# Rutina de solución numérica\n",
    "def Esol_numeric(M,e,xtol=1E-17):\n",
    "    E=bisect(Ekepler,0,2*pi,xtol=xtol,args=(M,e))\n",
    "    return E"
   ]
  },
  {
   "cell_type": "markdown",
   "metadata": {},
   "source": [
    "# Solución Analítica"
   ]
  },
  {
   "cell_type": "code",
   "execution_count": 254,
   "metadata": {
    "collapsed": true
   },
   "outputs": [],
   "source": [
    "def Esol_analytic(M,e):\n",
    "    \"\"\"\n",
    "    Mikkola, 1991\n",
    "    Code at: http://smallsats.org/2013/04/20/keplers-equation-iterative-and-non-iterative-solver-comparison/\n",
    "    \"\"\"\n",
    "    Ecorr=0;Esgn=1.0\n",
    "    if M>180*DEG:\n",
    "        M=360.0*DEG-M\n",
    "        Ecorr=360*DEG\n",
    "        Esgn=-1.0\n",
    "    if e==0:return Ecorr+Esgn*M\n",
    "        \n",
    "    a=(1-e)*3/(4*e+0.5);\n",
    "    b=-M/(4*e+0.5);\n",
    "    y=(b**2/4 +a**3/27)**0.5;\n",
    "    x=(-0.5*b+y)**(1./3)-(0.5*b+y)**(1./3);\n",
    "    w=x-0.078*x**5/(1 + e);\n",
    "    E=M+e*(3*w-4*w**3);\n",
    "\n",
    "    #NEWTON CORRECTION 1\n",
    "    sE=sin(E)\n",
    "    cE=cos(E)\n",
    "\n",
    "    f=(E-e*sE-M);\n",
    "    fd=1-e*cE;\n",
    "    f2d=e*sE;\n",
    "    f3d=-e*cE;\n",
    "    f4d=e*sE;\n",
    "    E=E-f/fd*(1+\\\n",
    "                  f*f2d/(2*fd*fd)+\\\n",
    "                  f*f*(3*f2d*f2d-fd*f3d)/(6*fd**4)+\\\n",
    "                  (10*fd*f2d*f3d-15*f2d**3-fd**2*f4d)*\\\n",
    "                  f**3/(24*fd**6))\n",
    "\n",
    "    #NEWTON CORRECTION 2\n",
    "    f=(E-e*sE-M);\n",
    "    fd=1-e*cE;\n",
    "    f2d=e*sE;\n",
    "    f3d=-e*cE;\n",
    "    f4d=e*sE;\n",
    "    E=E-f/fd*(1+\\\n",
    "                  f*f2d/(2*fd*fd)+\\\n",
    "                  f*f*(3*f2d*f2d-fd*f3d)/(6*fd**4)+\\\n",
    "                  (10*fd*f2d*f3d-15*f2d**3-fd**2*f4d)*\\\n",
    "                  f**3/(24*fd**6))\n",
    "    \n",
    "    E=Ecorr+Esgn*E\n",
    "    return E"
   ]
  },
  {
   "cell_type": "markdown",
   "metadata": {},
   "source": [
    "# Solución por series"
   ]
  },
  {
   "cell_type": "code",
   "execution_count": 255,
   "metadata": {
    "collapsed": false
   },
   "outputs": [],
   "source": [
    "def Esol_series_fourier(M,e):\n",
    "    E=M+(e-1./8*e**3)*sin(M)+0.5*e**2*sin(2*M)+3./8*e**3*sin(3*M)\n",
    "    return E\n",
    "\n",
    "def Esol_series_bessel(M,e,N=2):\n",
    "    E=M\n",
    "    for n in xrange(1,N+1):\n",
    "        E+=(2./n)*jn(n,e)*sin(n*M)\n",
    "    return E"
   ]
  },
  {
   "cell_type": "markdown",
   "metadata": {},
   "source": [
    "# Comparación de Soluciones"
   ]
  },
  {
   "cell_type": "code",
   "execution_count": 256,
   "metadata": {
    "collapsed": false
   },
   "outputs": [
    {
     "name": "stdout",
     "output_type": "stream",
     "text": [
      "Numeric: 6371.02127075\n",
      "Analytic: 1979.82788086\n",
      "Fourier: 792.980194092\n",
      "Bessel: 3226.99546814\n"
     ]
    }
   ],
   "source": [
    "e=0.6\n",
    "Ms=linspace(0,2*pi,100)\n",
    "\n",
    "t1=timeit()\n",
    "\n",
    "# Numeric solution\n",
    "Ens=array([Esol_numeric(M,e) for M in Ms])\n",
    "t2=timeit();print \"Numeric:\",(t2-t1)*1E6;t1=t2\n",
    "\n",
    "# Analytic solution\n",
    "Eas=array([Esol_analytic(M,e) for M in Ms])\n",
    "t2=timeit();print \"Analytic:\",(t2-t1)*1E6;t1=t2\n",
    "\n",
    "# Fourier series solution\n",
    "Efs=array([Esol_series_fourier(M,e) for M in Ms])\n",
    "t2=timeit();print \"Fourier:\",(t2-t1)*1E6;t1=t2\n",
    "\n",
    "# Bessel series solution\n",
    "Ebs=array([Esol_series_bessel(M,e,N=7) for M in Ms])\n",
    "t2=timeit();print \"Bessel:\",(t2-t1)*1E6;t1=t2"
   ]
  },
  {
   "cell_type": "markdown",
   "metadata": {},
   "source": [
    "# Gráficos comparativos"
   ]
  },
  {
   "cell_type": "code",
   "execution_count": 257,
   "metadata": {
    "collapsed": false,
    "scrolled": true
   },
   "outputs": [
    {
     "data": {
      "text/plain": [
       "<matplotlib.legend.Legend at 0x7f1f82ef4cd0>"
      ]
     },
     "execution_count": 257,
     "metadata": {},
     "output_type": "execute_result"
    },
    {
     "data": {
      "image/png": "[encoded data removed]",
      "text/plain": [
       "<matplotlib.figure.Figure at 0x7f1f83058790>"
      ]
     },
     "metadata": {},
     "output_type": "display_data"
    }
   ],
   "source": [
    "plt.plot(Ms,Ens,'b-',label='Numeric')\n",
    "plt.plot(Ms,Eas,'r+',label='Analytic')\n",
    "plt.plot(Ms,Efs,'g+',label='Fourier Series')\n",
    "plt.plot(Ms,Ebs,'c+',label='Bessel Series')\n",
    "\n",
    "\n",
    "plt.legend(loc='best')"
   ]
  },
  {
   "cell_type": "code",
   "execution_count": 258,
   "metadata": {
    "collapsed": false
   },
   "outputs": [
    {
     "data": {
      "text/plain": [
       "<matplotlib.legend.Legend at 0x7f1f82de4b50>"
      ]
     },
     "execution_count": 258,
     "metadata": {},
     "output_type": "execute_result"
    },
    {
     "data": {
      "image/png": "[encoded data removed]",
      "text/plain": [
       "<matplotlib.figure.Figure at 0x7f1f82eae410>"
      ]
     },
     "metadata": {},
     "output_type": "display_data"
    }
   ],
   "source": [
    "plt.plot(Ms,abs(Eas-Ens),'r+',label='Analytic')\n",
    "plt.plot(Ms,abs(Efs-Ens),'g+',label='Fourier Series')\n",
    "plt.plot(Ms,abs(Ebs-Ens),'c+',label='Bessel Series')\n",
    "plt.yscale(\"log\")\n",
    "plt.grid()\n",
    "\n",
    "\n",
    "plt.legend(loc='best')"
   ]
  },
  {
   "cell_type": "code",
   "execution_count": null,
   "metadata": {
    "collapsed": true
   },
   "outputs": [],
   "source": []
  }
 ],
 "metadata": {
  "kernelspec": {
   "display_name": "Python 2",
   "language": "python",
   "name": "python2"
  },
  "language_info": {
   "codemirror_mode": {
    "name": "ipython",
    "version": 2
   },
   "file_extension": ".py",
   "mimetype": "text/x-python",
   "name": "python",
   "nbconvert_exporter": "python",
   "pygments_lexer": "ipython2",
   "version": "2.7.11"
  }
 },
 "nbformat": 4,
 "nbformat_minor": 0
}
