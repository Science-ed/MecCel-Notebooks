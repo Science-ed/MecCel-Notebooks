{
 "cells": [
  {
   "cell_type": "markdown",
   "metadata": {},
   "source": [
    "# Determinación de los Elementos Orbitales"
   ]
  },
  {
   "cell_type": "code",
   "execution_count": 104,
   "metadata": {
    "collapsed": false
   },
   "outputs": [],
   "source": [
    "from numpy import *\n",
    "import matplotlib.pyplot as plt\n",
    "from scipy.optimize import bisect\n",
    "from scipy.special import jn\n",
    "from time import time as timeit\n",
    "%matplotlib inline\n",
    "norm=linalg.norm\n",
    "\n",
    "DEG=pi/180\n",
    "RAD=180/pi"
   ]
  },
  {
   "cell_type": "markdown",
   "metadata": {},
   "source": [
    "# Definición del Sistema"
   ]
  },
  {
   "cell_type": "code",
   "execution_count": 106,
   "metadata": {
    "collapsed": true
   },
   "outputs": [],
   "source": [
    "t=0\n",
    "\n",
    "m1 = 5.0\n",
    "r1 = array([1,0,0])\n",
    "v1 = array([0,1,1])\n",
    "\n",
    "m2 = 3.0\n",
    "r2 = array([-1,0,0])\n",
    "v2 = array([1,-1,0])"
   ]
  },
  {
   "cell_type": "markdown",
   "metadata": {},
   "source": [
    "# Propiedades dinámicas"
   ]
  },
  {
   "cell_type": "code",
   "execution_count": 108,
   "metadata": {
    "collapsed": false
   },
   "outputs": [
    {
     "name": "stdout",
     "output_type": "stream",
     "text": [
      "h =  [ 0 -2  4]\n",
      "eps =  -1.0\n",
      "evec =  [ 0.25  0.5   0.25]\n"
     ]
    }
   ],
   "source": [
    "# Posición inicial del Centro de masa\n",
    "rcm = (m1*r1+m2*r2)/mu\n",
    "vcm = (m1*v1+m2*v2)/mu\n",
    "\n",
    "# Posición relativa\n",
    "mu=m1+m2\n",
    "r=r1-r2\n",
    "v=v1-v2\n",
    "\n",
    "# Constantes de movimiento\n",
    "h=cross(r,v)\n",
    "eps=0.5*norm(v)**2-mu/norm(r)\n",
    "evec=-cross(h,v)/mu-r/norm(r)\n",
    "\n",
    "print \"h = \",h\n",
    "print \"eps = \",eps\n",
    "print \"evec = \",evec"
   ]
  },
  {
   "cell_type": "markdown",
   "metadata": {},
   "source": [
    "# Propiedades de la cónica"
   ]
  },
  {
   "cell_type": "code",
   "execution_count": 110,
   "metadata": {
    "collapsed": false
   },
   "outputs": [
    {
     "name": "stdout",
     "output_type": "stream",
     "text": [
      "Orbital geometrical properties:\n",
      "p,e =  2.5 0.612372435696\n",
      "Movimiento orbital medio =  0.353553390593\n",
      "Período =  17.7715317526\n"
     ]
    }
   ],
   "source": [
    "e=norm(evec)\n",
    "p=norm(h)**2/mu\n",
    "\n",
    "print \"Orbital geometrical properties:\"\n",
    "print \"p,e = \",p,e\n",
    "\n",
    "if e<1:\n",
    "    a=p/(1-e**2)\n",
    "    n=sqrt(mu/a**3)\n",
    "    P=2*pi/n\n",
    "    print \"Movimiento orbital medio = \",n\n",
    "    print \"Período = \",P\n",
    "else:\n",
    "    print \"La órbita es una hipérbola\""
   ]
  },
  {
   "cell_type": "markdown",
   "metadata": {},
   "source": [
    "# Orientación en el espacio"
   ]
  },
  {
   "cell_type": "code",
   "execution_count": 115,
   "metadata": {
    "collapsed": false
   },
   "outputs": [
    {
     "name": "stdout",
     "output_type": "stream",
     "text": [
      "Classical orbital elements i, Omega, omega, f: 26.5650511771 0.0 65.9051574479 65.9051574479\n",
      "Tiempo de paso por el periapsis: -0.740839502734\n"
     ]
    }
   ],
   "source": [
    "# Vectores unitarios\n",
    "ax = array([1,0,0])\n",
    "ay = array([0,1,0])\n",
    "az = array([0,0,1])\n",
    "\n",
    "# Vectores plano orbital\n",
    "I = az\n",
    "N = cross(az,h)\n",
    "\n",
    "# Elementos orbitales clásicos\n",
    "i = arccos(h[2]/norm(h))\n",
    "o = arccos(N[0]/norm(N))\n",
    "w = arccos(dot(N,evec)/(norm(N)*norm(evec)))\n",
    "f = arccos(dot(evec,r)/(norm(evec)*norm(r)))\n",
    "\n",
    "print \"Classical orbital elements i, Omega, omega, f:\",i*RAD,o*RAD,w*RAD,f*RAD\n",
    "\n",
    "# Tiempo de paso por el periapsis\n",
    "E = 2 * arctan(sqrt((1-e)/(1+e))*tan(f/2))\n",
    "M = E - e*sin(E)\n",
    "tp = t-M/n\n",
    "\n",
    "print \"Tiempo de paso por el periapsis:\",tp"
   ]
  },
  {
   "cell_type": "code",
   "execution_count": null,
   "metadata": {
    "collapsed": true
   },
   "outputs": [],
   "source": []
  }
 ],
 "metadata": {
  "kernelspec": {
   "display_name": "Python 2",
   "language": "python",
   "name": "python2"
  },
  "language_info": {
   "codemirror_mode": {
    "name": "ipython",
    "version": 2
   },
   "file_extension": ".py",
   "mimetype": "text/x-python",
   "name": "python",
   "nbconvert_exporter": "python",
   "pygments_lexer": "ipython2",
   "version": "2.7.11"
  }
 },
 "nbformat": 4,
 "nbformat_minor": 0
}
