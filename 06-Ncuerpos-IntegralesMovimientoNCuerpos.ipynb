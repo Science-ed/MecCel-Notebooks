{
 "cells": [
  {
   "cell_type": "markdown",
   "metadata": {},
   "source": [
    "# Integrales de Movimiento en el Problema de los N-cuerpos"
   ]
  },
  {
   "cell_type": "code",
   "execution_count": 359,
   "metadata": {
    "collapsed": false
   },
   "outputs": [],
   "source": [
    "from numpy import *\n",
    "import matplotlib.pyplot as plt\n",
    "from mpl_toolkits.mplot3d import Axes3D\n",
    "from scipy.integrate import odeint\n",
    "from numpy.linalg import norm\n",
    "%matplotlib inline"
   ]
  },
  {
   "cell_type": "markdown",
   "metadata": {},
   "source": [
    "# Sistema de Ecuaciones diferenciales"
   ]
  },
  {
   "cell_type": "code",
   "execution_count": 360,
   "metadata": {
    "collapsed": true
   },
   "outputs": [],
   "source": [
    "# Ecuaciones diferenciales para el sistema de N-cuerpos\n",
    "def eom(y,t,masas):\n",
    "    M=len(y);N=M/6\n",
    "    r=zeros((N,3));v=zeros((N,3))\n",
    "    drdt=zeros((N,3));dvdt=zeros((N,3))    \n",
    "    for i in xrange(N):\n",
    "        r[i]=y[3*i:3*i+3];\n",
    "        v[i]=y[3*N+3*i:3*N+3*i+3]\n",
    "\n",
    "    # Derivadas\n",
    "    for i in xrange(N):\n",
    "        drdt[i]=v[i]\n",
    "        for j in xrange(N):\n",
    "            if i==j:continue\n",
    "            dvdt[i]+=-masas[j]/norm(r[i]-r[j])**3*(r[i]-r[j])\n",
    "\n",
    "    # Devuelve derivadas\n",
    "    dydt=array([])\n",
    "    for i in xrange(N):dydt=concatenate((dydt,drdt[i]))\n",
    "    for i in xrange(N):dydt=concatenate((dydt,dvdt[i]))\n",
    "    return dydt"
   ]
  },
  {
   "cell_type": "markdown",
   "metadata": {},
   "source": [
    "# Definición de las propiedades del Sistema"
   ]
  },
  {
   "cell_type": "code",
   "execution_count": 361,
   "metadata": {
    "collapsed": false
   },
   "outputs": [],
   "source": [
    "# Define el sistema de partículas\n",
    "sistema=dict(\n",
    "    particula1=dict(\n",
    "        m=1.0,\n",
    "        r=[1,0,0],\n",
    "        v=[0,0.5,0]),\n",
    "    particula2=dict(\n",
    "        m=1.0,\n",
    "        r=[-1,0,0],\n",
    "        v=[0,-0.5,0.5],\n",
    "    ),\n",
    "    particula3=dict(\n",
    "        m=1.0,\n",
    "        r=[0,1,0],\n",
    "        v=[0,0,1]\n",
    "    )\n",
    ")\n",
    "\n",
    "# Prepara el Sistema de Partículas\n",
    "masas=[]\n",
    "rs=[];vs=[];ys=[]\n",
    "for i in sistema.keys():\n",
    "    particula=sistema[i]\n",
    "    if particula['m']>0:\n",
    "        masas+=[particula['m']]\n",
    "        rs+=particula['r'];vs+=particula['v']\n",
    "ys=rs+vs\n",
    "M=len(ys)\n",
    "N=M/6\n",
    "Masa=sum(masas)"
   ]
  },
  {
   "cell_type": "markdown",
   "metadata": {},
   "source": [
    "# Solución al Problema"
   ]
  },
  {
   "cell_type": "code",
   "execution_count": 362,
   "metadata": {
    "collapsed": false
   },
   "outputs": [],
   "source": [
    "Nt=1000\n",
    "ts=linspace(0,10,Nt)\n",
    "\n",
    "solucion=odeint(eom,ys,ts,args=(masas,))\n",
    "\n",
    "rs=zeros((N,Nt,3))\n",
    "vs=zeros((N,Nt,3))\n",
    "for i in xrange(N):\n",
    "    n=3*i\n",
    "    rs[i]=solucion[:,n:n+3]\n",
    "    m=3*N+3*i\n",
    "    vs[i]=solucion[:,m:m+3]"
   ]
  },
  {
   "cell_type": "markdown",
   "metadata": {},
   "source": [
    "# Integrales de Movimiento"
   ]
  },
  {
   "cell_type": "code",
   "execution_count": 363,
   "metadata": {
    "collapsed": false
   },
   "outputs": [
    {
     "name": "stdout",
     "output_type": "stream",
     "text": [
      "Momento total en t = 0.00, P =  [ 0.   0.   1.5]\n"
     ]
    }
   ],
   "source": [
    "# Momento total\n",
    "P=zeros((Nt,3))\n",
    "\n",
    "for it in xrange(Nt):\n",
    "    for n in xrange(N):\n",
    "        P[it]+=masas[n]*vs[n,it]\n",
    "\n",
    "it=0\n",
    "print \"Momento total en t = %.2f, P = \"%(ts[it]),P[it]"
   ]
  },
  {
   "cell_type": "code",
   "execution_count": 364,
   "metadata": {
    "collapsed": false
   },
   "outputs": [
    {
     "name": "stdout",
     "output_type": "stream",
     "text": [
      "Posición del Centro de Masa en t = 0.00, R =  [ 0.          0.33333333  0.        ]\n"
     ]
    }
   ],
   "source": [
    "# Posición del Centro de Masa\n",
    "R = zeros((Nt,3))\n",
    "for it in xrange(Nt):\n",
    "    for n in xrange(N):\n",
    "        R[it]+=masas[n]*rs[n,it]/Masa\n",
    "\n",
    "it=0\n",
    "print \"Posición del Centro de Masa en t = %.2f, R = \"%(ts[it]),R[it]"
   ]
  },
  {
   "cell_type": "code",
   "execution_count": 365,
   "metadata": {
    "collapsed": false
   },
   "outputs": [
    {
     "name": "stdout",
     "output_type": "stream",
     "text": [
      "Momento total en t = 0.01, L =  [ 1.          0.49999999  1.        ]\n"
     ]
    }
   ],
   "source": [
    "# Momento Angular\n",
    "L = zeros((Nt,3))\n",
    "for it in xrange(Nt):\n",
    "    for n in xrange(N):\n",
    "        L[it]+=masas[n]*cross(rs[n,it],vs[n,it])\n",
    "        \n",
    "it=1\n",
    "print \"Momento total en t = %.2f, L = \"%(ts[it]),L[it]\n"
   ]
  },
  {
   "cell_type": "code",
   "execution_count": 366,
   "metadata": {
    "collapsed": false
   },
   "outputs": [
    {
     "name": "stdout",
     "output_type": "stream",
     "text": [
      "Energía total en t = 0.20, E =  -1.03921356516\n"
     ]
    }
   ],
   "source": [
    "# Energía\n",
    "K = zeros(Nt)\n",
    "U = zeros(Nt)\n",
    "E = zeros(Nt)\n",
    "\n",
    "for it in xrange(Nt):\n",
    "    for n in xrange(N):\n",
    "        K[it]+=0.5*masas[n]*norm(vs[n,it])**2\n",
    "        for m in xrange(N):\n",
    "            if n==m:continue\n",
    "            U[it]+=-0.5*masas[n]*masas[m]/norm(rs[n,it]-rs[m,it])\n",
    "    E[it]=K[it]+U[it]\n",
    "\n",
    "it=20\n",
    "print \"Energía total en t = %.2f, E = \"%(ts[it]),E[it]"
   ]
  },
  {
   "cell_type": "markdown",
   "metadata": {},
   "source": [
    "# Gráficas"
   ]
  },
  {
   "cell_type": "code",
   "execution_count": 367,
   "metadata": {
    "collapsed": false
   },
   "outputs": [
    {
     "data": {
      "text/plain": [
       "(-3, 3)"
      ]
     },
     "execution_count": 367,
     "metadata": {},
     "output_type": "execute_result"
    },
    {
     "data": {
      "image/png": "[encoded data removed]",
      "text/plain": [
       "<matplotlib.figure.Figure at 0x7f6693aa8c50>"
      ]
     },
     "metadata": {},
     "output_type": "display_data"
    },
    {
     "data": {
      "image/png": "[encoded data removed]",
      "text/plain": [
       "<matplotlib.figure.Figure at 0x7f669372ca10>"
      ]
     },
     "metadata": {},
     "output_type": "display_data"
    }
   ],
   "source": [
    "# Graficar en 3D\n",
    "fig2d = plt.figure()\n",
    "fig3d = plt.figure()\n",
    "\n",
    "ax3d=Axes3D(fig3d)\n",
    "ax2d=fig2d.gca()\n",
    "\n",
    "for i in xrange(N):\n",
    "    n=3*i\n",
    "    r=solucion[:,n:n+3]\n",
    "    \n",
    "    # Grafica en 3D\n",
    "    line,=ax3d.plot(r[:,0],r[:,1],r[:,2])\n",
    "    color=line.get_color()\n",
    "    ax3d.plot(r[0:1,0],r[0:1,1],r[0:1,2],'o',color=color,markersize=5,markeredgecolor='none')\n",
    "    \n",
    "    # Grafica en 2D\n",
    "    ax2d.plot(r[:,0],r[:,1],color=color)\n",
    "    ax2d.plot(r[0,0],r[0,1],'o',color=color,markersize=5,markeredgecolor='none')\n",
    "    \n",
    "    \n",
    "# Grafica el Centro de Masa\n",
    "ax3d.plot(R[:,0],R[:,1],R[:,2],'k--')\n",
    "ax2d.plot(R[:,0],R[:,1],'k--')\n",
    "\n",
    "# Gráfica el Vector de Momento Angular\n",
    "ax3d.plot([0,L[0,0]],[0,L[0,1]],[0,L[0,2]],'k',linewidth=5)\n",
    "\n",
    "ax3d.view_init(elev=30,azim=80)\n",
    "\n",
    "ext=3\n",
    "ax3d.set_xlim(-ext,ext)\n",
    "ax3d.set_ylim(-ext,ext)\n",
    "ax3d.set_zlim(-ext,ext)\n",
    "ax2d.set_xlim(-ext,ext)\n",
    "ax2d.set_ylim(-ext,ext)"
   ]
  },
  {
   "cell_type": "code",
   "execution_count": null,
   "metadata": {
    "collapsed": true
   },
   "outputs": [],
   "source": []
  },
  {
   "cell_type": "code",
   "execution_count": null,
   "metadata": {
    "collapsed": true
   },
   "outputs": [],
   "source": []
  },
  {
   "cell_type": "code",
   "execution_count": null,
   "metadata": {
    "collapsed": true
   },
   "outputs": [],
   "source": []
  }
 ],
 "metadata": {
  "kernelspec": {
   "display_name": "Python 2",
   "language": "python",
   "name": "python2"
  },
  "language_info": {
   "codemirror_mode": {
    "name": "ipython",
    "version": 2
   },
   "file_extension": ".py",
   "mimetype": "text/x-python",
   "name": "python",
   "nbconvert_exporter": "python",
   "pygments_lexer": "ipython2",
   "version": "2.7.10"
  }
 },
 "nbformat": 4,
 "nbformat_minor": 0
}
