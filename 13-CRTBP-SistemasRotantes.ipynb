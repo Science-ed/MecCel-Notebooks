{
 "cells": [
  {
   "cell_type": "markdown",
   "metadata": {},
   "source": [
    "# Dinámica en un sistema rotante"
   ]
  },
  {
   "cell_type": "code",
   "execution_count": 56,
   "metadata": {
    "collapsed": true
   },
   "outputs": [],
   "source": [
    "from numpy import *\n",
    "import matplotlib.pyplot as plt\n",
    "from mpl_toolkits.mplot3d import Axes3D\n",
    "from scipy.integrate import odeint\n",
    "from numpy.linalg import norm\n",
    "%matplotlib inline\n",
    "\n",
    "# Matriz de Rotación\n",
    "def rotationMatrix(t,axis):\n",
    "    R=identity(3)\n",
    "    r=array([[cos(t),sin(t)],[-sin(t),cos(t)]])\n",
    "    if axis=='z':R[0:2,0:2]=r\n",
    "    elif axis=='x':R[1:3,1:3]=r\n",
    "    else:\n",
    "        R[0,0]=r[0,0];R[0,2]=r[0,1]\n",
    "        R[2,0]=r[1,0];R[2,2]=r[1,1]\n",
    "    return R"
   ]
  },
  {
   "cell_type": "markdown",
   "metadata": {},
   "source": [
    "# Ecuaciones de movimiento"
   ]
  },
  {
   "cell_type": "code",
   "execution_count": 57,
   "metadata": {
    "collapsed": true
   },
   "outputs": [],
   "source": [
    "def aceleracion(r,v,t):\n",
    "    return array([0,0,0])\n",
    "\n",
    "def eom(y,t,parametros):\n",
    "    w=parametros[\"w\"]\n",
    "    dwdt=parametros[\"dwdt\"]\n",
    "    \n",
    "    r=y[0:3]\n",
    "    v=y[3:6]\n",
    "    \n",
    "    drdt=v\n",
    "    \n",
    "    centrifuga=-cross(w,cross(w,r))\n",
    "    coriolis=-2*cross(w,v)\n",
    "    euler=-cross(dwdt,r)\n",
    "    \n",
    "    dvdt=aceleracion(r,v,t)+centrifuga+coriolis+euler\n",
    "    \n",
    "    return drdt.tolist()+dvdt.tolist()"
   ]
  },
  {
   "cell_type": "markdown",
   "metadata": {},
   "source": [
    "# Condiciones iniciales"
   ]
  },
  {
   "cell_type": "code",
   "execution_count": 78,
   "metadata": {
    "collapsed": false
   },
   "outputs": [],
   "source": [
    "w = array([0,0,1])\n",
    "dwdt = array([0,0,0])\n",
    "\n",
    "parametros=dict(w=w,dwdt=dwdt)\n",
    "\n",
    "# Estas son las condiciones iniciales en el sistema rotante\n",
    "r=array([0,0,0])\n",
    "v=array([1,1,0])\n",
    "y=concatenate((r,v))"
   ]
  },
  {
   "cell_type": "markdown",
   "metadata": {},
   "source": [
    "# Integración"
   ]
  },
  {
   "cell_type": "code",
   "execution_count": 79,
   "metadata": {
    "collapsed": false
   },
   "outputs": [],
   "source": [
    "Nt = 100\n",
    "ts = linspace(0,10,Nt)\n",
    "\n",
    "solucion=odeint(eom,y,ts,args=(parametros,))\n",
    "\n",
    "rs=solucion[:,0:3]\n",
    "vs=solucion[:,3:6]"
   ]
  },
  {
   "cell_type": "markdown",
   "metadata": {},
   "source": [
    "# Gráfica"
   ]
  },
  {
   "cell_type": "code",
   "execution_count": 80,
   "metadata": {
    "collapsed": false
   },
   "outputs": [
    {
     "data": {
      "image/png": "[encoded data removed]",
      "text/plain": [
       "<matplotlib.figure.Figure at 0x7f68e59959d0>"
      ]
     },
     "metadata": {},
     "output_type": "display_data"
    }
   ],
   "source": [
    "fig2d = plt.figure()\n",
    "ax=fig2d.gca()\n",
    "ax.plot([0],[0],'+')\n",
    "\n",
    "ax.plot(rs[0,0],rs[0,1],'o')\n",
    "ax.plot(rs[:,0],rs[:,1])\n",
    "\n",
    "ext=10\n",
    "ax.set_xlim((-ext,ext))\n",
    "ax.set_ylim((-ext,ext))\n",
    "ax.grid()"
   ]
  },
  {
   "cell_type": "markdown",
   "metadata": {},
   "source": [
    "# Transformación al sistema no rotante"
   ]
  },
  {
   "cell_type": "code",
   "execution_count": 81,
   "metadata": {
    "collapsed": false
   },
   "outputs": [
    {
     "data": {
      "image/png": "[encoded data removed]",
      "text/plain": [
       "<matplotlib.figure.Figure at 0x7f68e5adf4d0>"
      ]
     },
     "metadata": {},
     "output_type": "display_data"
    }
   ],
   "source": [
    "# Rotación\n",
    "rnrs=zeros_like(rs)\n",
    "for i in xrange(Nt):\n",
    "    teta=w[2]*ts[i]+0.5*dwdt[2]*ts[i]**2\n",
    "    Rtot=rotationMatrix(-teta,'z')\n",
    "    rnrs[i]=Rtot.dot(rs[i])\n",
    "\n",
    "# Gráfico\n",
    "fig2d = plt.figure()\n",
    "ax=fig2d.gca()\n",
    "ax.plot([0],[0],'+')\n",
    "\n",
    "ax.plot(rnrs[0,0],rnrs[0,1],'o')\n",
    "ax.plot(rnrs[:,0],rnrs[:,1])\n",
    "\n",
    "ext=10\n",
    "ax.set_xlim((-ext,ext))\n",
    "ax.set_ylim((-ext,ext))\n",
    "ax.grid()    "
   ]
  },
  {
   "cell_type": "code",
   "execution_count": null,
   "metadata": {
    "collapsed": true
   },
   "outputs": [],
   "source": []
  },
  {
   "cell_type": "code",
   "execution_count": null,
   "metadata": {
    "collapsed": true
   },
   "outputs": [],
   "source": []
  }
 ],
 "metadata": {
  "kernelspec": {
   "display_name": "Python 2",
   "language": "python",
   "name": "python2"
  },
  "language_info": {
   "codemirror_mode": {
    "name": "ipython",
    "version": 2
   },
   "file_extension": ".py",
   "mimetype": "text/x-python",
   "name": "python",
   "nbconvert_exporter": "python",
   "pygments_lexer": "ipython2",
   "version": "2.7.11"
  }
 },
 "nbformat": 4,
 "nbformat_minor": 0
}
