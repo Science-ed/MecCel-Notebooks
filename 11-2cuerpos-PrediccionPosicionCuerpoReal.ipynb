{
 "cells": [
  {
   "cell_type": "markdown",
   "metadata": {},
   "source": [
    "# \"Brujería\" con el problema de los dos cuerpos"
   ]
  },
  {
   "cell_type": "code",
   "execution_count": 172,
   "metadata": {
    "collapsed": true
   },
   "outputs": [],
   "source": [
    "from numpy import *\n",
    "import matplotlib.pyplot as plt\n",
    "from mpl_toolkits.mplot3d import Axes3D\n",
    "from scipy.optimize import bisect\n",
    "from scipy.special import jn\n",
    "from time import time as timeit\n",
    "%matplotlib inline\n",
    "norm=linalg.norm\n",
    "\n",
    "DIA=86400.0 # s\n",
    "DEG=pi/180\n",
    "RAD=180/pi\n",
    "AU=1.5e11 # m\n",
    "\n",
    "# Solución ultraeficiente y precisa a la ecuación de Kepler\n",
    "def Esol(M,e):\n",
    "    \"\"\"\n",
    "    Mikkola, 1991\n",
    "    Code at: http://smallsats.org/2013/04/20/keplers-equation-iterative-and-non-iterative-solver-comparison/\n",
    "    \"\"\"\n",
    "    Ecorr=0;Esgn=1.0\n",
    "    if M>180*DEG:\n",
    "        M=360.0*DEG-M\n",
    "        Ecorr=360*DEG\n",
    "        Esgn=-1.0\n",
    "    if e==0:return Ecorr+Esgn*M\n",
    "        \n",
    "    a=(1-e)*3/(4*e+0.5);\n",
    "    b=-M/(4*e+0.5);\n",
    "    y=(b**2/4 +a**3/27)**0.5;\n",
    "    x=(-0.5*b+y)**(1./3)-(0.5*b+y)**(1./3);\n",
    "    w=x-0.078*x**5/(1 + e);\n",
    "    E=M+e*(3*w-4*w**3);\n",
    "\n",
    "    #NEWTON CORRECTION 1\n",
    "    sE=sin(E)\n",
    "    cE=cos(E)\n",
    "\n",
    "    f=(E-e*sE-M);\n",
    "    fd=1-e*cE;\n",
    "    f2d=e*sE;\n",
    "    f3d=-e*cE;\n",
    "    f4d=e*sE;\n",
    "    E=E-f/fd*(1+\\\n",
    "                  f*f2d/(2*fd*fd)+\\\n",
    "                  f*f*(3*f2d*f2d-fd*f3d)/(6*fd**4)+\\\n",
    "                  (10*fd*f2d*f3d-15*f2d**3-fd**2*f4d)*\\\n",
    "                  f**3/(24*fd**6))\n",
    "\n",
    "    #NEWTON CORRECTION 2\n",
    "    f=(E-e*sE-M);\n",
    "    fd=1-e*cE;\n",
    "    f2d=e*sE;\n",
    "    f3d=-e*cE;\n",
    "    f4d=e*sE;\n",
    "    E=E-f/fd*(1+\\\n",
    "                  f*f2d/(2*fd*fd)+\\\n",
    "                  f*f*(3*f2d*f2d-fd*f3d)/(6*fd**4)+\\\n",
    "                  (10*fd*f2d*f3d-15*f2d**3-fd**2*f4d)*\\\n",
    "                  f**3/(24*fd**6))\n",
    "    \n",
    "    E=Ecorr+Esgn*E\n",
    "    return E\n",
    "\n",
    "# Convierte una posiciones devueltas por Horizons en vectores de posición y velocidad\n",
    "def str2vec(cadena):\n",
    "    lista=cadena.split(\"\\n\")\n",
    "    pr=lista[1].split(\" \")\n",
    "    pv=lista[2].split(\" \")\n",
    "    r=[]\n",
    "    for x in pr:\n",
    "        if x=='':continue\n",
    "        r+=[float(x)]\n",
    "    r=array(r)\n",
    "    v=[]\n",
    "    for x in pv:\n",
    "        if x=='':continue\n",
    "        v+=[float(x)]\n",
    "    v=array(v)\n",
    "    return r,v"
   ]
  },
  {
   "cell_type": "markdown",
   "metadata": {},
   "source": [
    "# Definición del Sistema"
   ]
  },
  {
   "cell_type": "code",
   "execution_count": 173,
   "metadata": {
    "collapsed": true
   },
   "outputs": [],
   "source": [
    "# Esto viene de MecCel-ProblemaDosCuerpos-DeterminacionElementosOrbitales-SistemaReal\n",
    "# Sistema Tierra-Luna en una fecha específica:\n",
    "t =  263618127.507\n",
    "# Tierra\n",
    "m1 =  1.0\n",
    "r1 = array( [-743.1501836105128, -23784.06966240977, -2.9994833970080177] )\n",
    "v1 = array( [3.700732439155043, -0.14328411193718754, -1.3610507990244552e-05] )\n",
    "# Luna\n",
    "m2 =  0.0122932772082\n",
    "r2 = array( [-762.2462251566171, -23843.50326794187, 2.4667756905271423] )\n",
    "v2 = array( [3.8209497114191127, -0.17751352750957722, 0.00033187631076013165] )\n",
    "# Centro de Masa\n",
    "rcm = array( [-743.3820857060726, -23784.79142339025, -2.933101213338583] )\n",
    "vcm = array( [3.70219235624274, -0.14369979354229206, -9.414920278357005e-06] )\n",
    "# Unidades del sistema a SI\n",
    "ul =  6371000.0\n",
    "ut =  805.456982823\n",
    "um =  5.97237e+24\n",
    "# Propiedades dinámicas (unidades canónicas)\n",
    "mu =  1.01229327721\n",
    "h = array( [0.16657332663144261, 0.6637361876366484, 7.798592279757015] )\n",
    "evec = array( [-0.0408065065347476, -0.02235168365874296, 0.0027739489467564493] )\n",
    "n =  0.00212887649751\n",
    "P =  2951.40902468\n",
    "# Elementos orbitales (en unidades canónicas y radianes)\n",
    "a =  60.6738852571\n",
    "e =  0.0466096935273\n",
    "i =  0.0875248484444\n",
    "o =  2.89570769884\n",
    "w =  0.748909787804\n",
    "f =  -2.38445516812\n",
    "tp =  263619216.709"
   ]
  },
  {
   "cell_type": "markdown",
   "metadata": {},
   "source": [
    "# Fecha en la que se quiere calcular la posición"
   ]
  },
  {
   "cell_type": "code",
   "execution_count": 187,
   "metadata": {
    "collapsed": true
   },
   "outputs": [],
   "source": [
    "# 2016-07-01 02:00:00 en dias Julianos\n",
    "tfuturo = 2457570.583333330 * 86400 / ut\n",
    "\n",
    "# 2016-12-01 02:00:00 en dias Julianos\n",
    "# tfuturo = 2457723.583333330 * 86400 / ut"
   ]
  },
  {
   "cell_type": "markdown",
   "metadata": {},
   "source": [
    "# Cálculo de la posición en el plano fundamental"
   ]
  },
  {
   "cell_type": "code",
   "execution_count": 188,
   "metadata": {
    "collapsed": false
   },
   "outputs": [
    {
     "name": "stdout",
     "output_type": "stream",
     "text": [
      "Anomalía verdadera:  26.4606895452\n",
      "r,v =  58.1170313316 0.134730118501\n",
      "Angulo velocidad radio vector:  88.8578667506\n",
      "Angulo de la velocidad:  115.318556296\n",
      "Posición en el plano fundamental:  [52.02870774285755, 25.89600164902069, 0.0]\n",
      "Velocidad en el plano fundamental:  [52.02870774285755, 25.89600164902069, 0.0]\n"
     ]
    }
   ],
   "source": [
    "# Anomalías\n",
    "M=mod(n*(tfuturo-tp),2*pi)\n",
    "E=Esol(M,e)\n",
    "f=2*arctan(sqrt((1+e)/(1-e))*tan(E/2))\n",
    "\n",
    "print \"Anomalía verdadera: \",f*RAD\n",
    "\n",
    "# r,v\n",
    "r=a*(1-e*cos(E))\n",
    "v=sqrt(mu*(2/r-1/a))\n",
    "print \"r,v = \",r,v\n",
    "\n",
    "# Angulo entre la velocidad y el vector posición\n",
    "alpha=arcsin(norm(h)/(norm(r)*norm(v)))\n",
    "print \"Angulo velocidad radio vector: \",alpha*RAD\n",
    "\n",
    "# Ángulo de la velocidad\n",
    "teta = f+alpha\n",
    "print \"Angulo de la velocidad: \",teta*RAD\n",
    "\n",
    "# Coordenadas en el plano fundamental\n",
    "x = r*cos(f)\n",
    "y = r*sin(f)\n",
    "z = 0\n",
    "rpp = array([x,y,z])\n",
    "\n",
    "vx = v*cos(teta)\n",
    "vy = v*sin(teta)\n",
    "vz = 0\n",
    "vpp = array([vx,vy,vz])\n",
    "\n",
    "print \"Posición en el plano fundamental: \",rpp.tolist()\n",
    "print \"Velocidad en el plano fundamental: \",rpp.tolist()"
   ]
  },
  {
   "cell_type": "markdown",
   "metadata": {},
   "source": [
    "# Posición de la Tierra y la Luna en el plano fundamental"
   ]
  },
  {
   "cell_type": "code",
   "execution_count": 189,
   "metadata": {
    "collapsed": true
   },
   "outputs": [],
   "source": [
    "r1pp=+m2/mu*rpp\n",
    "v1pp=+m2/mu*vpp\n",
    "\n",
    "r2pp=-m1/mu*rpp\n",
    "v2pp=-m1/mu*vpp"
   ]
  },
  {
   "cell_type": "markdown",
   "metadata": {},
   "source": [
    "# Matriz de rotación al sistema de referencia de observación"
   ]
  },
  {
   "cell_type": "code",
   "execution_count": 190,
   "metadata": {
    "collapsed": false
   },
   "outputs": [],
   "source": [
    "# Matriz de Rotación\n",
    "def rotationMatrix(t,axis):\n",
    "    R=identity(3)\n",
    "    r=array([[cos(t),sin(t)],[-sin(t),cos(t)]])\n",
    "    if axis=='z':R[0:2,0:2]=r\n",
    "    elif axis=='x':R[1:3,1:3]=r\n",
    "    else:\n",
    "        R[0,0]=r[0,0];R[0,2]=r[0,1]\n",
    "        R[2,0]=r[1,0];R[2,2]=r[1,1]\n",
    "    return R\n",
    "\n",
    "Rtot=(rotationMatrix(-o,'z').dot(rotationMatrix(-i,'x'))).dot(rotationMatrix(-w,'z'))"
   ]
  },
  {
   "cell_type": "markdown",
   "metadata": {},
   "source": [
    "# Posición y velocidad en el sistema de referencia de la observación"
   ]
  },
  {
   "cell_type": "code",
   "execution_count": 191,
   "metadata": {
    "collapsed": false
   },
   "outputs": [
    {
     "name": "stdout",
     "output_type": "stream",
     "text": [
      "Posición de la Tierra r, v: [-0.40134979 -0.57766733  0.05773771] [  1.32658932e-03  -9.56226500e-04   5.30490274e-05]\n",
      "Posición de la Luna r, v: [ 32.64790882  46.99050745  -4.69669009] [-0.10791177  0.07778451 -0.00431529]\n"
     ]
    }
   ],
   "source": [
    "r1 = Rtot.dot(r1pp)\n",
    "v1 = Rtot.dot(v1pp)\n",
    "\n",
    "r2 = Rtot.dot(r2pp)\n",
    "v2 = Rtot.dot(v2pp)\n",
    "\n",
    "print \"Posición de la Tierra r, v:\",r1,v1\n",
    "print \"Posición de la Luna r, v:\",r2,v2"
   ]
  },
  {
   "cell_type": "markdown",
   "metadata": {},
   "source": [
    "# En unidades del sistema Horizons del JPL"
   ]
  },
  {
   "cell_type": "code",
   "execution_count": 192,
   "metadata": {
    "collapsed": false
   },
   "outputs": [
    {
     "name": "stdout",
     "output_type": "stream",
     "text": [
      "Posición y velocidad de la Tierra:\n",
      "-1.7046664e-05 -2.4535457e-05 +2.4523131e-06 \n",
      "+6.0439969e-06 -4.3566083e-06 +2.4169361e-07]\n",
      "Posición y velocidad de la Luna:\n",
      "+1.3866655e-03 +1.9958435e-03 -1.9948408e-04 \n",
      "-4.9165058e-04 +3.5438949e-04 -1.9660633e-05]\n"
     ]
    }
   ],
   "source": [
    "r1=r1*ul/AU\n",
    "v1=v1*ul/ut*(DIA/AU)\n",
    "\n",
    "r2=r2*ul/AU\n",
    "v2=v2*ul/ut*(DIA/AU)\n",
    "\n",
    "print \"Posición y velocidad de la Tierra:\"\n",
    "print \"%+.7e %+.7e %+.7e \"%(r1[0],r1[1],r1[2])\n",
    "print \"%+.7e %+.7e %+.7e]\"%(v1[0],v1[1],v1[2])\n",
    "\n",
    "print \"Posición y velocidad de la Luna:\"\n",
    "print \"%+.7e %+.7e %+.7e \"%(r2[0],r2[1],r2[2])\n",
    "print \"%+.7e %+.7e %+.7e]\"%(v2[0],v2[1],v2[2])\n"
   ]
  },
  {
   "cell_type": "markdown",
   "metadata": {},
   "source": [
    "# Valores calculados con Horizons"
   ]
  },
  {
   "cell_type": "code",
   "execution_count": 196,
   "metadata": {
    "collapsed": false
   },
   "outputs": [],
   "source": [
    "# 2016-07-01 02:00:00\n",
    "luna=\"\"\"\n",
    "1.420963124590351E-03  1.944834162289680E-03 -1.991995015794231E-04\n",
    "-4.959947218313727E-04  3.586965896461778E-04 -1.919821623749072E-05\n",
    "\"\"\"\n",
    "  \n",
    "tierra=\"\"\"\n",
    "-1.747789887292984E-05 -2.392153197002750E-05  2.450161220859895E-06\n",
    "6.100753383149802E-06 -4.411981290301303E-06  2.361387682289336E-07\n",
    "\"\"\"\n",
    "\n",
    "r1n,v1n=str2vec(luna)\n",
    "r2n,v2n=str2vec(luna)"
   ]
  },
  {
   "cell_type": "markdown",
   "metadata": {},
   "source": [
    "# Errores"
   ]
  },
  {
   "cell_type": "code",
   "execution_count": 197,
   "metadata": {
    "collapsed": false
   },
   "outputs": [
    {
     "name": "stdout",
     "output_type": "stream",
     "text": [
      "Errores en posición de la Luna (%): [-1.41909986  2.11056464 -0.01177488]\n",
      "Errores en velocidad de la Luna (%): [ 0.70935451 -0.70330596 -0.075508  ]\n"
     ]
    }
   ],
   "source": [
    "print \"Errores en posición de la Luna (%):\",(r2-r2n)/norm(r2n)*100\n",
    "print \"Errores en velocidad de la Luna (%):\",(v2-v2n)/norm(v2n)*100"
   ]
  },
  {
   "cell_type": "markdown",
   "metadata": {},
   "source": [
    "# Igual pero en la fecha de diciembre"
   ]
  },
  {
   "cell_type": "code",
   "execution_count": 198,
   "metadata": {
    "collapsed": false
   },
   "outputs": [
    {
     "name": "stdout",
     "output_type": "stream",
     "text": [
      "Errores en posición de la Luna (%): [  58.51414212  174.41887084  -15.73364764]\n",
      "Errores en velocidad de la Luna (%): [-187.87505033   67.75791708   -0.52574197]\n"
     ]
    }
   ],
   "source": [
    "# 2016-12-01 02:00:00\n",
    "luna=\"\"\"\n",
    "-1.711627476952467E-04 -2.647728759600073E-03  2.193944996516806E-04\n",
    "5.578391890816546E-04 -2.411335140327116E-05 -1.672378277158184E-05\n",
    "\"\"\"\n",
    "\n",
    "tierra=\"\"\"\n",
    "2.105308113391589E-06  3.256716145718358E-05 -2.698560442442569E-06\n",
    "-6.861442612690692E-06  2.965951121604893E-07  2.057031452795932E-07\n",
    "\"\"\"\n",
    "r1n,v1n=str2vec(luna)\n",
    "r2n,v2n=str2vec(luna)\n",
    "\n",
    "print \"Errores en posición de la Luna (%):\",(r2-r2n)/norm(r2n)*100\n",
    "print \"Errores en velocidad de la Luna (%):\",(v2-v2n)/norm(v2n)*100"
   ]
  },
  {
   "cell_type": "code",
   "execution_count": null,
   "metadata": {
    "collapsed": true
   },
   "outputs": [],
   "source": []
  }
 ],
 "metadata": {
  "kernelspec": {
   "display_name": "Python 2",
   "language": "python",
   "name": "python2"
  },
  "language_info": {
   "codemirror_mode": {
    "name": "ipython",
    "version": 2
   },
   "file_extension": ".py",
   "mimetype": "text/x-python",
   "name": "python",
   "nbconvert_exporter": "python",
   "pygments_lexer": "ipython2",
   "version": "2.7.11"
  }
 },
 "nbformat": 4,
 "nbformat_minor": 0
}
